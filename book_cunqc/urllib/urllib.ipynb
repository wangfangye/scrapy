{
 "cells": [
  {
   "cell_type": "code",
   "execution_count": 18,
   "metadata": {
    "collapsed": true
   },
   "outputs": [],
   "source": [
    "import numpy as np\n",
    "import urllib.request"
   ]
  },
  {
   "cell_type": "code",
   "execution_count": 2,
   "metadata": {
    "collapsed": true
   },
   "outputs": [
    {
     "name": "stdout",
     "output_type": "stream",
     "text": [
      "<!doctype html>\n<!--[if lt IE 7]>   <html class=\"no-js ie6 lt-ie7 lt-ie8 lt-ie9\">   <![endif]-->\n<!--[if IE 7]>      <html class=\"no-js ie7 lt-ie8 lt-ie9\">          <![endif]-->\n<!--[if IE 8]>      <html class=\"no-js ie8 lt-ie9\">                 <![endif]-->\n<!--[if gt IE 8]><!--><html class=\"no-js\" lang=\"en\" dir=\"ltr\">  <!--<![endif]-->\n\n<head>\n    <meta charset=\"utf-8\">\n    <meta http-equiv=\"X-UA-Compatible\" content=\"IE=edge\">\n\n    <link rel=\"prefetch\" href=\"//ajax.googleapis.com/ajax/libs/jquery/1.8.2/jquery.min.js\">\n\n    <meta name=\"application-name\" content=\"Python.org\">\n    <meta name=\"msapplication-tooltip\" content=\"The official home of the Python Programming Language\">\n    <meta name=\"apple-mobile-web-app-title\" content=\"Python.org\">\n    <meta name=\"apple-mobile-web-app-capable\" content=\"yes\">\n    <meta name=\"apple-mobile-web-app-status-bar-style\" content=\"black\">\n\n    <meta name=\"viewport\" content=\"width=device-width, initial-scale=1.0\">\n    <meta name=\"HandheldFriendly\" content=\"True\">\n    <meta name=\"format-detection\" content=\"telephone=no\">\n    <meta http-equiv=\"cleartype\" content=\"on\">\n    <meta http-equiv=\"imagetoolbar\" content=\"false\">\n\n    <script src=\"/static/js/libs/modernizr.js\"></script>\n\n    <link href=\"/static/stylesheets/style.css\" rel=\"stylesheet\" type=\"text/css\" title=\"default\" />\n    <link href=\"/static/stylesheets/mq.css\" rel=\"stylesheet\" type=\"text/css\" media=\"not print, braille, embossed, speech, tty\" />\n    \n\n    <!--[if (lte IE 8)&(!IEMobile)]>\n    <link href=\"/static/stylesheets/no-mq.css\" rel=\"stylesheet\" type=\"text/css\" media=\"screen\" />\n    \n    \n    <![endif]-->\n\n    \n    <link rel=\"icon\" type=\"image/x-icon\" href=\"/static/favicon.ico\">\n    <link rel=\"apple-touch-icon-precomposed\" sizes=\"144x144\" href=\"/static/apple-touch-icon-144x144-precomposed.png\">\n    <link rel=\"apple-touch-icon-precomposed\" sizes=\"114x114\" href=\"/static/apple-touch-icon-114x114-precomposed.png\">\n    <link rel=\"apple-touch-icon-precomposed\" sizes=\"72x72\" href=\"/static/apple-touch-icon-72x72-precomposed.png\">\n    <link rel=\"apple-touch-icon-precomposed\" href=\"/static/apple-touch-icon-precomposed.png\">\n    <link rel=\"apple-touch-icon\" href=\"/static/apple-touch-icon-precomposed.png\">\n\n    \n    <meta name=\"msapplication-TileImage\" content=\"/static/metro-icon-144x144-precomposed.png\"><!-- white shape -->\n    <meta name=\"msapplication-TileColor\" content=\"#3673a5\"><!-- python blue -->\n    <meta name=\"msapplication-navbutton-color\" content=\"#3673a5\">\n\n    <title>Welcome to Python.org</title>\n\n    <meta name=\"description\" content=\"The official home of the Python Programming Language\">\n    <meta name=\"keywords\" content=\"Python programming language object oriented web free open source software license documentation download community\">\n\n    \n    <meta property=\"og:type\" content=\"website\">\n    <meta property=\"og:site_name\" content=\"Python.org\">\n    <meta property=\"og:title\" content=\"Welcome to Python.org\">\n    <meta property=\"og:description\" content=\"The official home of the Python Programming Language\">\n    \n    <meta property=\"og:image\" content=\"https://www.python.org/static/opengraph-icon-200x200.png\">\n    <meta property=\"og:image:secure_url\" content=\"https://www.python.org/static/opengraph-icon-200x200.png\">\n    \n    <meta property=\"og:url\" content=\"https://www.python.org/\">\n\n    <link rel=\"author\" href=\"/static/humans.txt\">\n\n    <link rel=\"alternate\" type=\"application/rss+xml\" title=\"Python Enhancement Proposals\"\n          href=\"https://www.python.org/dev/peps/peps.rss/\">\n    <link rel=\"alternate\" type=\"application/rss+xml\" title=\"Python Job Opportunities\"\n          href=\"https://www.python.org/jobs/feed/rss/\">\n    <link rel=\"alternate\" type=\"application/rss+xml\" title=\"Python Software Foundation News\"\n          href=\"https://feeds.feedburner.com/PythonSoftwareFoundationNews\">\n    <link rel=\"alternate\" type=\"application/rss+xml\" title=\"Python Insider\"\n          href=\"https://feeds.feedburner.com/PythonInsider\">\n\n    \n\n    \n    <script type=\"application/ld+json\">\n     {\n       \"@context\": \"http://schema.org\",\n       \"@type\": \"WebSite\",\n       \"url\": \"https://www.python.org/\",\n       \"potentialAction\": {\n         \"@type\": \"SearchAction\",\n         \"target\": \"https://www.python.org/search/?q={search_term_string}\",\n         \"query-input\": \"required name=search_term_string\"\n       }\n     }\n    </script>\n\n    \n    <script type=\"text/javascript\">\n    var _gaq = _gaq || [];\n    _gaq.push(['_setAccount', 'UA-39055973-1']);\n    _gaq.push(['_trackPageview']);\n\n    (function() {\n        var ga = document.createElement('script'); ga.type = 'text/javascript'; ga.async = true;\n        ga.src = ('https:' == document.location.protocol ? 'https://ssl' : 'http://www') + '.google-analytics.com/ga.js';\n        var s = document.getElementsByTagName('script')[0]; s.parentNode.insertBefore(ga, s);\n    })();\n    </script>\n    \n</head>\n\n<body class=\"python home\" id=\"homepage\">\n\n    <div id=\"touchnav-wrapper\">\n\n        <div id=\"nojs\" class=\"do-not-print\">\n            <p><strong>Notice:</strong> While Javascript is not essential for this website, your interaction with the content will be limited. Please turn Javascript on for the full experience. </p>\n        </div>\n\n        <!--[if lt IE 8]>\n        <div id=\"oldie-warning\" class=\"do-not-print\">\n            <p><strong>Notice:</strong> Your browser is <em>ancient</em> and <a href=\"http://www.ie6countdown.com/\">Microsoft agrees</a>. <a href=\"http://browsehappy.com/\">Upgrade to a different browser</a> or <a href=\"http://www.google.com/chromeframe/?redirect=true\">install Google Chrome Frame</a> to experience a better web.</p>\n        </div>\n        <![endif]-->\n\n        <!-- Sister Site Links -->\n        <div id=\"top\" class=\"top-bar do-not-print\">\n\n            <nav class=\"meta-navigation container\" role=\"navigation\">\n\n                \n                <div class=\"skip-link screen-reader-text\">\n                    <a href=\"#content\" title=\"Skip to content\">Skip to content</a>\n                </div>\n\n                \n                <a id=\"close-python-network\" class=\"jump-link\" href=\"#python-network\" aria-hidden=\"true\">\n                    <span aria-hidden=\"true\" class=\"icon-arrow-down\"><span>&#9660;</span></span> Close\n                </a>\n\n                \n\n<ul class=\"menu\" role=\"tree\">\n    \n    <li class=\"python-meta current_item selectedcurrent_branch selected\">\n        <a href=\"/\" title=\"The Python Programming Language\" class=\"current_item selectedcurrent_branch selected\">Python</a>\n    </li>\n    \n    <li class=\"psf-meta \">\n        <a href=\"/psf-landing/\" title=\"The Python Software Foundation\" >PSF</a>\n    </li>\n    \n    <li class=\"docs-meta \">\n        <a href=\"https://docs.python.org\" title=\"Python Documentation\" >Docs</a>\n    </li>\n    \n    <li class=\"pypi-meta \">\n        <a href=\"https://pypi.python.org/\" title=\"Python Package Index\" >PyPI</a>\n    </li>\n    \n    <li class=\"jobs-meta \">\n        <a href=\"/jobs/\" title=\"Python Job Board\" >Jobs</a>\n    </li>\n    \n    <li class=\"shop-meta \">\n        <a href=\"/community/\" title=\"Python Community\" >Community</a>\n    </li>\n    \n</ul>\n\n\n                <a id=\"python-network\" class=\"jump-link\" href=\"#top\" aria-hidden=\"true\">\n                    <span aria-hidden=\"true\" class=\"icon-arrow-up\"><span>&#9650;</span></span> The Python Network\n                </a>\n\n            </nav>\n\n        </div>\n\n        <!-- Header elements -->\n        <header class=\"main-header\" role=\"banner\">\n            <div class=\"container\">\n\n                <h1 class=\"site-headline\">\n                    <a href=\"/\"><img class=\"python-logo\" src=\"/static/img/python-logo.png\" alt=\"python&trade;\"></a>\n                </h1>\n\n                <div class=\"options-bar do-not-print\">\n\n                    \n                    <a id=\"site-map-link\" class=\"jump-to-menu\" href=\"#site-map\"><span class=\"menu-icon\">&equiv;</span> Menu</a><form class=\"search-the-site\" action=\"/search/\" method=\"get\">\n                        <fieldset title=\"Search Python.org\">\n\n                            <span aria-hidden=\"true\" class=\"icon-search\"></span>\n\n                            <label class=\"screen-reader-text\" for=\"id-search-field\">Search This Site</label>\n                            <input id=\"id-search-field\" name=\"q\" type=\"search\" role=\"textbox\" class=\"search-field\" placeholder=\"Search\" value=\"\" tabindex=\"1\">\n\n                            <button type=\"submit\" name=\"submit\" id=\"submit\" class=\"search-button\" title=\"Submit this Search\" tabindex=\"3\">\n                                GO\n                            </button>\n\n                            \n                            <!--[if IE]><input type=\"text\" style=\"display: none;\" disabled=\"disabled\" size=\"1\" tabindex=\"4\"><![endif]-->\n\n                        </fieldset>\n                    </form><span class=\"breaker\"></span><div class=\"adjust-font-size\" aria-hidden=\"true\">\n                        <ul class=\"navigation menu\" aria-label=\"Adjust Text Size on Page\">\n                            <li class=\"tier-1 last\" aria-haspopup=\"true\">\n                                <a href=\"#\" class=\"action-trigger\"><strong><small>A</small> A</strong></a>\n                                <ul class=\"subnav menu\">\n                                    <li class=\"tier-2 element-1\" role=\"treeitem\"><a class=\"text-shrink\" title=\"Make Text Smaller\" href=\"javascript:;\">Smaller</a></li>\n                                    <li class=\"tier-2 element-2\" role=\"treeitem\"><a class=\"text-grow\" title=\"Make Text Larger\" href=\"javascript:;\">Larger</a></li>\n                                    <li class=\"tier-2 element-3\" role=\"treeitem\"><a class=\"text-reset\" title=\"Reset any font size changes I have made\" href=\"javascript:;\">Reset</a></li>\n                                </ul>\n                            </li>\n                        </ul>\n                    </div><div class=\"winkwink-nudgenudge\">\n                        <ul class=\"navigation menu\" aria-label=\"Social Media Navigation\">\n                            <li class=\"tier-1 last\" aria-haspopup=\"true\">\n                                <a href=\"#\" class=\"action-trigger\">Socialize</a>\n                                <ul class=\"subnav menu\">\n                                    <li class=\"tier-2 element-1\" role=\"treeitem\"><a href=\"http://plus.google.com/+Python\"><span aria-hidden=\"true\" class=\"icon-google-plus\"></span>Google+</a></li>\n                                    <li class=\"tier-2 element-2\" role=\"treeitem\"><a href=\"http://www.facebook.com/pythonlang?fref=ts\"><span aria-hidden=\"true\" class=\"icon-facebook\"></span>Facebook</a></li>\n                                    <li class=\"tier-2 element-3\" role=\"treeitem\"><a href=\"http://twitter.com/ThePSF\"><span aria-hidden=\"true\" class=\"icon-twitter\"></span>Twitter</a></li>\n                                    <li class=\"tier-2 element-4\" role=\"treeitem\"><a href=\"/community/irc/\"><span aria-hidden=\"true\" class=\"icon-freenode\"></span>Chat on IRC</a></li>\n                                </ul>\n                            </li>\n                        </ul>\n                    </div><div class=\"account-signin\">\n                        <ul class=\"navigation menu\" aria-label=\"Social Media Navigation\">\n                            <li class=\"tier-1 last\" aria-haspopup=\"true\">\n                                \n                                <a href=\"/accounts/login/\" title=\"Sign Up or Sign In to Python.org\">Sign In</a>\n                                <ul class=\"subnav menu\">\n                                    <li class=\"tier-2 element-1\" role=\"treeitem\"><a href=\"/accounts/signup/\">Sign Up / Register</a></li>\n                                    <li class=\"tier-2 element-2\" role=\"treeitem\"><a href=\"/accounts/login/\">Sign In</a></li>\n                                </ul>\n                                \n                            </li>\n                        </ul>\n                    </div>\n\n                </div><!-- end options-bar -->\n\n                <nav id=\"mainnav\" class=\"python-navigation main-navigation do-not-print\" role=\"navigation\">\n                    \n                        \n<ul class=\"navigation menu\" role=\"menubar\" aria-label=\"Main Navigation\">\n  \n    \n    \n    <li id=\"about\" class=\"tier-1 element-1  \" aria-haspopup=\"true\">\n        <a href=\"/about/\" title=\"\" class=\"\">About</a>\n        \n            \n\n<ul class=\"subnav menu\" role=\"menu\" aria-hidden=\"true\">\n    \n        <li class=\"tier-2 element-1\" role=\"treeitem\"><a href=\"/about/apps/\" title=\"\">Applications</a></li>\n    \n        <li class=\"tier-2 element-2\" role=\"treeitem\"><a href=\"/about/quotes/\" title=\"\">Quotes</a></li>\n    \n        <li class=\"tier-2 element-3\" role=\"treeitem\"><a href=\"/about/gettingstarted/\" title=\"\">Getting Started</a></li>\n    \n        <li class=\"tier-2 element-4\" role=\"treeitem\"><a href=\"/about/help/\" title=\"\">Help</a></li>\n    \n        <li class=\"tier-2 element-5\" role=\"treeitem\"><a href=\"http://brochure.getpython.info/\" title=\"\">Python Brochure</a></li>\n    \n</ul>\n\n        \n    </li>\n    \n    \n    \n    <li id=\"downloads\" class=\"tier-1 element-2  \" aria-haspopup=\"true\">\n        <a href=\"/downloads/\" title=\"\" class=\"\">Downloads</a>\n        \n            \n\n<ul class=\"subnav menu\" role=\"menu\" aria-hidden=\"true\">\n    \n        <li class=\"tier-2 element-1\" role=\"treeitem\"><a href=\"/downloads/\" title=\"\">All releases</a></li>\n    \n        <li class=\"tier-2 element-2\" role=\"treeitem\"><a href=\"/downloads/source/\" title=\"\">Source code</a></li>\n    \n        <li class=\"tier-2 element-3\" role=\"treeitem\"><a href=\"/downloads/windows/\" title=\"\">Windows</a></li>\n    \n        <li class=\"tier-2 element-4\" role=\"treeitem\"><a href=\"/downloads/mac-osx/\" title=\"\">Mac OS X</a></li>\n    \n        <li class=\"tier-2 element-5\" role=\"treeitem\"><a href=\"/download/other/\" title=\"\">Other Platforms</a></li>\n    \n        <li class=\"tier-2 element-6\" role=\"treeitem\"><a href=\"https://docs.python.org/3/license.html\" title=\"\">License</a></li>\n    \n        <li class=\"tier-2 element-7\" role=\"treeitem\"><a href=\"/download/alternatives\" title=\"\">Alternative Implementations</a></li>\n    \n</ul>\n\n        \n    </li>\n    \n    \n    \n    <li id=\"documentation\" class=\"tier-1 element-3  \" aria-haspopup=\"true\">\n        <a href=\"/doc/\" title=\"\" class=\"\">Documentation</a>\n        \n            \n\n<ul class=\"subnav menu\" role=\"menu\" aria-hidden=\"true\">\n    \n        <li class=\"tier-2 element-1\" role=\"treeitem\"><a href=\"/doc/\" title=\"\">Docs</a></li>\n    \n        <li class=\"tier-2 element-2\" role=\"treeitem\"><a href=\"/doc/av\" title=\"\">Audio/Visual Talks</a></li>\n    \n        <li class=\"tier-2 element-3\" role=\"treeitem\"><a href=\"https://wiki.python.org/moin/BeginnersGuide\" title=\"\">Beginner&#39;s Guide</a></li>\n    \n        <li class=\"tier-2 element-4\" role=\"treeitem\"><a href=\"https://devguide.python.org/\" title=\"\">Developer&#39;s Guide</a></li>\n    \n        <li class=\"tier-2 element-5\" role=\"treeitem\"><a href=\"https://docs.python.org/faq/\" title=\"\">FAQ</a></li>\n    \n        <li class=\"tier-2 element-6\" role=\"treeitem\"><a href=\"http://wiki.python.org/moin/Languages\" title=\"\">Non-English Docs</a></li>\n    \n        <li class=\"tier-2 element-7\" role=\"treeitem\"><a href=\"http://python.org/dev/peps/\" title=\"\">PEP Index</a></li>\n    \n        <li class=\"tier-2 element-8\" role=\"treeitem\"><a href=\"https://wiki.python.org/moin/PythonBooks\" title=\"\">Python Books</a></li>\n    \n        <li class=\"tier-2 element-9\" role=\"treeitem\"><a href=\"/doc/essays/\" title=\"\">Python Essays</a></li>\n    \n</ul>\n\n        \n    </li>\n    \n    \n    \n    <li id=\"community\" class=\"tier-1 element-4  \" aria-haspopup=\"true\">\n        <a href=\"/community/\" title=\"\" class=\"\">Community</a>\n        \n            \n\n<ul class=\"subnav menu\" role=\"menu\" aria-hidden=\"true\">\n    \n        <li class=\"tier-2 element-1\" role=\"treeitem\"><a href=\"/community/diversity/\" title=\"\">Diversity</a></li>\n    \n        <li class=\"tier-2 element-2\" role=\"treeitem\"><a href=\"/community/lists/\" title=\"\">Mailing Lists</a></li>\n    \n        <li class=\"tier-2 element-3\" role=\"treeitem\"><a href=\"/community/irc/\" title=\"\">IRC</a></li>\n    \n        <li class=\"tier-2 element-4\" role=\"treeitem\"><a href=\"/community/forums/\" title=\"\">Forums</a></li>\n    \n        <li class=\"tier-2 element-5\" role=\"treeitem\"><a href=\"/community/workshops/\" title=\"\">Python Conferences</a></li>\n    \n        <li class=\"tier-2 element-6\" role=\"treeitem\"><a href=\"/community/sigs/\" title=\"\">Special Interest Groups</a></li>\n    \n        <li class=\"tier-2 element-7\" role=\"treeitem\"><a href=\"https://wiki.python.org/moin/\" title=\"\">Python Wiki</a></li>\n    \n        <li class=\"tier-2 element-8\" role=\"treeitem\"><a href=\"/community/logos/\" title=\"\">Python Logo</a></li>\n    \n        <li class=\"tier-2 element-9\" role=\"treeitem\"><a href=\"/community/merchandise/\" title=\"\">Merchandise</a></li>\n    \n        <li class=\"tier-2 element-10\" role=\"treeitem\"><a href=\"/community/awards\" title=\"\">Community Awards</a></li>\n    \n        <li class=\"tier-2 element-11\" role=\"treeitem\"><a href=\"https://www.python.org/psf/codeofconduct/\" title=\"\">Code of Conduct</a></li>\n    \n</ul>\n\n        \n    </li>\n    \n    \n    \n    <li id=\"success-stories\" class=\"tier-1 element-5  \" aria-haspopup=\"true\">\n        <a href=\"/about/success/\" title=\"success-stories\" class=\"\">Success Stories</a>\n        \n            \n\n<ul class=\"subnav menu\" role=\"menu\" aria-hidden=\"true\">\n    \n        <li class=\"tier-2 element-1\" role=\"treeitem\"><a href=\"/about/success/#arts\" title=\"\">Arts</a></li>\n    \n        <li class=\"tier-2 element-2\" role=\"treeitem\"><a href=\"/about/success/#business\" title=\"\">Business</a></li>\n    \n        <li class=\"tier-2 element-3\" role=\"treeitem\"><a href=\"/about/success/#education\" title=\"\">Education</a></li>\n    \n        <li class=\"tier-2 element-4\" role=\"treeitem\"><a href=\"/about/success/#engineering\" title=\"\">Engineering</a></li>\n    \n        <li class=\"tier-2 element-5\" role=\"treeitem\"><a href=\"/about/success/#government\" title=\"\">Government</a></li>\n    \n        <li class=\"tier-2 element-6\" role=\"treeitem\"><a href=\"/about/success/#scientific\" title=\"\">Scientific</a></li>\n    \n        <li class=\"tier-2 element-7\" role=\"treeitem\"><a href=\"/about/success/#software-development\" title=\"\">Software Development</a></li>\n    \n</ul>\n\n        \n    </li>\n    \n    \n    \n    <li id=\"news\" class=\"tier-1 element-6  \" aria-haspopup=\"true\">\n        <a href=\"/blogs/\" title=\"News from around the Python world\" class=\"\">News</a>\n        \n            \n\n<ul class=\"subnav menu\" role=\"menu\" aria-hidden=\"true\">\n    \n        <li class=\"tier-2 element-1\" role=\"treeitem\"><a href=\"/blogs/\" title=\"Python Insider Blog Posts\">Python News</a></li>\n    \n        <li class=\"tier-2 element-2\" role=\"treeitem\"><a href=\"http://planetpython.org/\" title=\"Planet Python\">Community News</a></li>\n    \n        <li class=\"tier-2 element-3\" role=\"treeitem\"><a href=\"http://pyfound.blogspot.com/\" title=\"PSF Blog\">PSF News</a></li>\n    \n        <li class=\"tier-2 element-4\" role=\"treeitem\"><a href=\"http://pycon.blogspot.com/\" title=\"PyCon Blog\">PyCon News</a></li>\n    \n</ul>\n\n        \n    </li>\n    \n    \n    \n    <li id=\"events\" class=\"tier-1 element-7  \" aria-haspopup=\"true\">\n        <a href=\"/events/\" title=\"\" class=\"\">Events</a>\n        \n            \n\n<ul class=\"subnav menu\" role=\"menu\" aria-hidden=\"true\">\n    \n        <li class=\"tier-2 element-1\" role=\"treeitem\"><a href=\"/events/python-events\" title=\"\">Python Events</a></li>\n    \n        <li class=\"tier-2 element-2\" role=\"treeitem\"><a href=\"/events/python-user-group/\" title=\"\">User Group Events</a></li>\n    \n        <li class=\"tier-2 element-3\" role=\"treeitem\"><a href=\"/events/python-events/past/\" title=\"\">Python Events Archive</a></li>\n    \n        <li class=\"tier-2 element-4\" role=\"treeitem\"><a href=\"/events/python-user-group/past/\" title=\"\">User Group Events Archive</a></li>\n    \n        <li class=\"tier-2 element-5\" role=\"treeitem\"><a href=\"https://wiki.python.org/moin/PythonEventsCalendar#Submitting_an_Event\" title=\"\">Submit an Event</a></li>\n    \n</ul>\n\n        \n    </li>\n    \n    \n    \n    \n  \n</ul>\n\n                    \n                </nav>\n\n                <div class=\"header-banner \"> <!-- for optional \"do-not-print\" class -->\n                    \n        <div id=\"dive-into-python\" class=\"flex-slideshow slideshow\">\n\n            <ul class=\"launch-shell menu\" id=\"launch-shell\">\n                <li>\n                    <a class=\"button prompt\" id=\"start-shell\" data-shell-container=\"#dive-into-python\" href=\"/shell/\">&gt;_\n                        <span class=\"message\">Launch Interactive Shell</span>\n                    </a>\n                </li>\n            </ul>\n\n            <ul class=\"slides menu\">\n                \n                <li>\n                    <div class=\"slide-code\"><pre><code><span class=\"comment\"># Python 3: Fibonacci series up to n</span>\r\n>>> def fib(n):\r\n>>>     a, b = 0, 1\r\n>>>     while a &lt; n:\r\n>>>         print(a, end=' ')\r\n>>>         a, b = b, a+b\r\n>>>     print()\r\n>>> fib(1000)\r\n<span class=\"output\">0 1 1 2 3 5 8 13 21 34 55 89 144 233 377 610 987</span></code></pre></div>\n                    <div class=\"slide-copy\"><h1>Functions Defined</h1>\r\n<p>The core of extensible programming is defining functions. Python allows mandatory and optional arguments, keyword arguments, and even arbitrary argument lists. <a href=\"//docs.python.org/3/tutorial/controlflow.html#defining-functions\">More about defining functions in Python&nbsp;3</a></p></div>\n                </li>\n                \n                <li>\n                    <div class=\"slide-code\"><pre><code><span class=\"comment\"># Python 3: List comprehensions</span>\r\n>>> fruits = ['Banana', 'Apple', 'Lime']\r\n>>> loud_fruits = [fruit.upper() for fruit in fruits]\r\n>>> print(loud_fruits)\r\n<span class=\"output\">['BANANA', 'APPLE', 'LIME']</span>\r\n\r\n<span class=\"comment\"># List and the enumerate function</span>\r\n>>> list(enumerate(fruits))\r\n<span class=\"output\">[(0, 'Banana'), (1, 'Apple'), (2, 'Lime')]</span></code></pre></div>\n                    <div class=\"slide-copy\"><h1>Compound Data Types</h1>\r\n<p>Lists (known as arrays in other languages) are one of the compound data types that Python understands. Lists can be indexed, sliced and manipulated with other built-in functions. <a href=\"//docs.python.org/3/tutorial/introduction.html#lists\">More about lists in Python&nbsp;3</a></p></div>\n                </li>\n                \n                <li>\n                    <div class=\"slide-code\"><pre><code><span class=\"comment\"># Python 3: Simple arithmetic</span>\r\n>>> 1 / 2\r\n<span class=\"output\">0.5</span>\r\n>>> 2 ** 3\r\n<span class=\"output\">8</span>\r\n>>> 17 / 3  <span class=\"comment\"># classic division returns a float</span>\r\n<span class=\"output\">5.666666666666667</span>\r\n>>> 17 // 3  <span class=\"comment\"># floor division</span>\r\n<span class=\"output\">5</span></code></pre></div>\n                    <div class=\"slide-copy\"><h1>Intuitive Interpretation</h1>\r\n<p>Calculations are simple with Python, and expression syntax is straightforward: the operators <code>+</code>, <code>-</code>, <code>*</code> and <code>/</code> work as expected; parentheses <code>()</code> can be used for grouping. <a href=\"http://docs.python.org/3/tutorial/introduction.html#using-python-as-a-calculator\">More about simple math functions in Python&nbsp;3</a>.</p></div>\n                </li>\n                \n                <li>\n                    <div class=\"slide-code\"><pre><code><span class=\"comment\"># Python 3: Simple output (with Unicode)</span>\r\n>>> print(\"Hello, I'm Python!\")\r\n<span class=\"output\">Hello, I'm Python!</span>\r\n\r\n<span class=\"comment\"># Input, assignment</span>\r\n>>> name = input('What is your name?\\n')\r\n>>> print('Hi, %s.' % name)\r\n<span class=\"output\">What is your name?\r\nPython\r\nHi, Python.</span></code></pre></div>\n                    <div class=\"slide-copy\"><h1>Quick &amp; Easy to Learn</h1>\r\n<p>Experienced programmers in any other language can pick up Python very quickly, and beginners find the clean syntax and indentation structure easy to learn. <a href=\"//docs.python.org/3/tutorial/\">Whet your appetite</a> with our Python&nbsp;3 overview.</p>\r\n                   </div>\n                </li>\n                \n                <li>\n                    <div class=\"slide-code\"><pre><code><span class=\"comment\"># For loop on a list</span>\r\n>>> numbers = [2, 4, 6, 8]\r\n>>> product = 1\r\n>>> for number in numbers:\r\n...    product = product * number\r\n... \r\n>>> print('The product is:', product)\r\n<span class=\"output\">The product is: 384</span></code></pre></div>\n                    <div class=\"slide-copy\"><h1>All the Flow You&rsquo;d Expect</h1>\r\n<p>Python knows the usual control flow statements that other languages speak &mdash; <code>if</code>, <code>for</code>, <code>while</code> and <code>range</code> &mdash; with some of its own twists, of course. <a href=\"//docs.python.org/3/tutorial/controlflow.html\">More control flow tools in Python&nbsp;3</a></p></div>\n                </li>\n                \n            </ul>\n        </div>\n\n\n                </div>\n\n                \n        <div class=\"introduction\">\n            <p>Python is a programming language that lets you work quickly <span class=\"breaker\"></span>and integrate systems more effectively. <a class=\"readmore\" href=\"/doc/\">Learn More</a></p>\n        </div>\n\n\n             </div><!-- end .container -->\n        </header>\n\n        <div id=\"content\" class=\"content-wrapper\">\n            <!-- Main Content Column -->\n            <div class=\"container\">\n\n                <section class=\"main-content \" role=\"main\">\n\n                    \n                    \n\n                    \n\n                    \n\n                <div class=\"row\">\n\n                    <div class=\"small-widget get-started-widget\">\n                        <h2 class=\"widget-title\"><span aria-hidden=\"true\" class=\"icon-get-started\"></span>Get Started</h2>\r\n<p>Whether you're new to programming or an experienced developer, it's easy to learn and use Python.</p>\r\n<p><a href=\"/about/gettingstarted/\">Start with our Beginner&rsquo;s Guide</a></p>\n                    </div>\n\n                    <div class=\"small-widget download-widget\">\n                        <h2 class=\"widget-title\"><span aria-hidden=\"true\" class=\"icon-download\"></span>Download</h2>\n<p>Python source code and installers are available for download for all versions!</p>\n<p>Latest: <a href=\"/downloads/release/python-370/\">Python 3.7.0</a></p>\n                    </div>\n\n                    <div class=\"small-widget documentation-widget\">\n                        <h2 class=\"widget-title\"><span aria-hidden=\"true\" class=\"icon-documentation\"></span>Docs</h2>\r\n<p>Documentation for Python's standard library, along with tutorials and guides, are available online.</p>\r\n<p><a href=\"https://docs.python.org\">docs.python.org</a></p>\n                    </div>\n\n                    <div class=\"small-widget jobs-widget last\">\n                        <h2 class=\"widget-title\"><span aria-hidden=\"true\" class=\"icon-jobs\"></span>Jobs</h2>\r\n<p>Looking for work or have a Python related position that you're trying to hire for? Our <strong>relaunched community-run job board</strong> is the place to go.</p>\r\n<p><a href=\"//jobs.python.org\">jobs.python.org</a></p>\n                    </div>\n\n                </div>\n\n                <div class=\"list-widgets row\">\n\n                    <div class=\"medium-widget blog-widget\">\n                        \n                        <div class=\"shrubbery\">\n                        \n                            <h2 class=\"widget-title\"><span aria-hidden=\"true\" class=\"icon-news\"></span>Latest News</h2>\n                            <p class=\"give-me-more\"><a href=\"http://blog.python.org\" title=\"More News\">More</a></p>\n                            \n                            <ul class=\"menu\">\n                                \n                                \n                                <li>\n<time datetime=\"2018-08-02T14:03:00.000003+00:00\"><span class=\"say-no-more\">2018-</span>08-02</time>\n <a href=\"http://feedproxy.google.com/~r/PythonInsider/~3/5EA0ClmtbD8/python-356-and-python-349-are-now.html\">Python 3.5.6 and Python 3.4.9 are now available. You can&nbsp;download ...</a></li>\n                                \n                                <li>\n<time datetime=\"2018-06-28T00:00:00.000003+00:00\"><span class=\"say-no-more\">2018-</span>06-28</time>\n <a href=\"http://feedproxy.google.com/~r/PythonInsider/~3/RMqgTQsV720/python-3.html\">Python&nbsp;3.7.0&nbsp;is now available (and so is 3.6.6)! On behalf of ...</a></li>\n                                \n                                <li>\n<time datetime=\"2018-06-12T20:26:00.000001+00:00\"><span class=\"say-no-more\">2018-</span>06-12</time>\n <a href=\"http://feedproxy.google.com/~r/PythonInsider/~3/PuHgTVhNAAE/python-370rc1-and-366rc1-now-available.html\">Python&nbsp;3.7.0rc1&nbsp;and&nbsp;3.6.6rc1&nbsp;are now available. 3.7.0rc1 is the&nbsp;final planned release preview&nbsp;of&nbsp;Python 3.7, ...</a></li>\n                                \n                                <li>\n<time datetime=\"2018-05-31T04:30:00.000003+00:00\"><span class=\"say-no-more\">2018-</span>05-31</time>\n <a href=\"http://feedproxy.google.com/~r/PythonInsider/~3/rPQiRIs2Qhg/python-370b5-bonus-beta-is-now.html\">A 3.7 update: Python&nbsp;3.7.0b5&nbsp;is now the&nbsp;final beta preview&nbsp;of&nbsp;Python 3.7, the ...</a></li>\n                                \n                                <li>\n<time datetime=\"2018-05-03T00:18:00.000003+00:00\"><span class=\"say-no-more\">2018-</span>05-03</time>\n <a href=\"http://feedproxy.google.com/~r/PythonInsider/~3/vo7OgsISIdQ/python-370b4-final-37-beta-now.html\">Python&nbsp;3.7.0b4&nbsp;is the&nbsp;final beta preview&nbsp;of&nbsp;Python 3.7, the next feature release of ...</a></li>\n                                \n                            </ul>\n                        </div><!-- end .shrubbery -->\n\n                    </div>\n\n                    <div class=\"medium-widget event-widget last\">\n                        \n                        <div class=\"shrubbery\">\n                        \n                            <h2 class=\"widget-title\"><span aria-hidden=\"true\" class=\"icon-calendar\"></span>Upcoming Events</h2>\n                            <p class=\"give-me-more\"><a href=\"/events/calendars/\" title=\"More Events\">More</a></p>\n                            \n                            <ul class=\"menu\">\n                                \n                                \n                                \n                                <li>\n<time datetime=\"2018-08-10T23:30:00+00:00\"><span class=\"say-no-more\">2018-</span>08-10</time>\n <a href=\"/events/python-user-group/744/\">Python en la vida real</a></li>\n                                \n                                \n                                \n                                <li>\n<time datetime=\"2018-08-11T00:00:00+00:00\"><span class=\"say-no-more\">2018-</span>08-11</time>\n <a href=\"/events/python-events/718/\">PyData Delhi 2018</a></li>\n                                \n                                \n                                \n                                <li>\n<time datetime=\"2018-08-11T14:00:00+00:00\"><span class=\"say-no-more\">2018-</span>08-11</time>\n <a href=\"/events/python-user-group/749/\">Meetup Python Cali</a></li>\n                                \n                                \n                                \n                                <li>\n<time datetime=\"2018-08-15T00:00:00+00:00\"><span class=\"say-no-more\">2018-</span>08-15</time>\n <a href=\"/events/python-events/745/\">PyCon Korea 2018</a></li>\n                                \n                                \n                                \n                                <li>\n<time datetime=\"2018-08-15T23:15:00+00:00\"><span class=\"say-no-more\">2018-</span>08-15</time>\n <a href=\"/events/python-user-group/754/\">Meetup Python Popayan</a></li>\n                                \n                                \n                            </ul>\n                        </div>\n\n                    </div>\n\n                </div>\n\n                <div class=\"row\">\n\n                    <div class=\"medium-widget success-stories-widget\">\n                        \n\n\n\n                        <div class=\"shrubbery\">\n                            \n\n                            <h2 class=\"widget-title\"><span aria-hidden=\"true\" class=\"icon-success-stories\"></span>Success Stories</h2>\n                            <p class=\"give-me-more\"><a href=\"/success-stories/\" title=\"More Success Stories\">More</a></p>\n\n                            \n                            <div class=\"success-story-item\" id=\"success-story-2\">\n\n                            <blockquote>\n                                <a href=\"/success-stories/industrial-light-magic-runs-python/\">ILM runs a batch processing environment capable of modeling, rendering and compositing tens of thousands of motion picture frames per day. Thousands of machines running Linux, IRIX, Compaq Tru64, OS X, Solaris, and Windows join together to provide a production pipeline used by ~800 users daily. Speed of development is key, and Python was a faster way to code (and re-code) the programs that control this production pipeline.</a>\n                            </blockquote>\n\n                            <table cellpadding=\"0\" cellspacing=\"0\" border=\"0\" width=\"100%\" class=\"quote-from\">\n                                <tbody>\n                                    <tr>\n                                        \n                                        <td><p><a href=\"/success-stories/industrial-light-magic-runs-python/\">Industrial Light &amp; Magic Runs on Python</a> <em>by Tim Fortenberry</em></p></td>\n                                    </tr>\n                                </tbody>\n                            </table>\n                            </div>\n                            \n\n                        </div><!-- end .shrubbery -->\n\n                    </div>\n\n                    <div class=\"medium-widget applications-widget last\">\n                        <div class=\"shrubbery\">\n                            <h2 class=\"widget-title\"><span aria-hidden=\"true\" class=\"icon-python\"></span>Use Python for&hellip;</h2>\r\n<p class=\"give-me-more\"><a href=\"/about/apps\" title=\"More Applications\">More</a></p>\r\n\r\n<ul class=\"menu\">\r\n    <li><b>Web Development</b>:\r\n        <span class=\"tag-wrapper\"><a class=\"tag\" href=\"http://www.djangoproject.com/\">Django</a>, <a class=\"tag\" href=\"http://www.pylonsproject.org/\">Pyramid</a>, <a class=\"tag\" href=\"http://bottlepy.org\">Bottle</a>, <a class=\"tag\" href=\"http://tornadoweb.org\">Tornado</a>, <a href=\"http://flask.pocoo.org/\" class=\"tag\">Flask</a>, <a class=\"tag\" href=\"http://www.web2py.com/\">web2py</a></span></li>\r\n    <li><b>GUI Development</b>:\r\n        <span class=\"tag-wrapper\"><a class=\"tag\" href=\"http://wiki.python.org/moin/TkInter\">tkInter</a>, <a class=\"tag\" href=\"https://wiki.gnome.org/Projects/PyGObject\">PyGObject</a>, <a class=\"tag\" href=\"http://www.riverbankcomputing.co.uk/software/pyqt/intro\">PyQt</a>, <a class=\"tag\" href=\"https://wiki.qt.io/PySide\">PySide</a>, <a class=\"tag\" href=\"https://kivy.org/\">Kivy</a>, <a class=\"tag\" href=\"http://www.wxpython.org/\">wxPython</a></span></li>\r\n    <li><b>Scientific and Numeric</b>:\r\n        <span class=\"tag-wrapper\">\r\n<a class=\"tag\" href=\"http://www.scipy.org\">SciPy</a>, <a class=\"tag\" href=\"http://pandas.pydata.org/\">Pandas</a>, <a href=\"http://ipython.org\" class=\"tag\">IPython</a></span></li>\r\n    <li><b>Software Development</b>:\r\n        <span class=\"tag-wrapper\"><a class=\"tag\" href=\"http://buildbot.net/\">Buildbot</a>, <a class=\"tag\" href=\"http://trac.edgewall.org/\">Trac</a>, <a class=\"tag\" href=\"http://roundup.sourceforge.net/\">Roundup</a></span></li>\r\n    <li><b>System Administration</b>:\r\n        <span class=\"tag-wrapper\"><a class=\"tag\" href=\"http://www.ansible.com\">Ansible</a>, <a class=\"tag\" href=\"http://www.saltstack.com\">Salt</a>, <a class=\"tag\" href=\"https://www.openstack.org\">OpenStack</a></span></li>\r\n</ul>\r\n\n                        </div><!-- end .shrubbery -->\n                    </div>\n\n                </div>\n\n                \n                <div class=\"pep-widget\">\n\n                    <h2 class=\"widget-title\">\n                        <span class=\"prompt\">&gt;&gt;&gt;</span> <a href=\"/dev/peps/\">Python Enhancement Proposals<span class=\"say-no-more\"> (PEPs)</span></a>: The future of Python<span class=\"say-no-more\"> is discussed here.</span>\n                        <a aria-hidden=\"true\" class=\"rss-link\" href=\"/dev/peps/peps.rss\"><span class=\"icon-feed\"></span> RSS</a>\n                    </h2>\n\n\n                    \n                    \n                </div>\n\n                                <div class=\"psf-widget\">\n\n                    <div class=\"python-logo\"></div>\n                    \n                    <h2 class=\"widget-title\">\r\n    <span class=\"prompt\">&gt;&gt;&gt;</span> <a href=\"/psf/\">Python Software Foundation</a>\r\n</h2>\r\n<p>The mission of the Python Software Foundation is to promote, protect, and advance the Python programming language, and to support and facilitate the growth of a diverse and international community of Python programmers. <a class=\"readmore\" href=\"/psf/\">Learn more</a> </p>\r\n<p class=\"click-these\">\r\n    <a class=\"button\" href=\"/users/membership/\">Become a Member</a>\r\n    <a class=\"button\" href=\"/psf/donations/\">Donate to the PSF</a>\r\n</p>\n                </div>\n\n\n\n\n                </section>\n\n                \n                \n\n                \n                \n\n\n            </div><!-- end .container -->\n        </div><!-- end #content .content-wrapper -->\n\n        <!-- Footer and social media list -->\n        <footer id=\"site-map\" class=\"main-footer\" role=\"contentinfo\">\n            <div class=\"main-footer-links\">\n                <div class=\"container\">\n\n                    \n                    <a id=\"back-to-top-1\" class=\"jump-link\" href=\"#python-network\"><span aria-hidden=\"true\" class=\"icon-arrow-up\"><span>&#9650;</span></span> Back to Top</a>\n\n                    \n\n<ul class=\"sitemap navigation menu do-not-print\" role=\"tree\" id=\"container\">\n    \n    <li class=\"tier-1 element-1\">\n        <a href=\"/about/\" >About</a>\n        \n            \n\n<ul class=\"subnav menu\">\n    \n        <li class=\"tier-2 element-1\" role=\"treeitem\"><a href=\"/about/apps/\" title=\"\">Applications</a></li>\n    \n        <li class=\"tier-2 element-2\" role=\"treeitem\"><a href=\"/about/quotes/\" title=\"\">Quotes</a></li>\n    \n        <li class=\"tier-2 element-3\" role=\"treeitem\"><a href=\"/about/gettingstarted/\" title=\"\">Getting Started</a></li>\n    \n        <li class=\"tier-2 element-4\" role=\"treeitem\"><a href=\"/about/help/\" title=\"\">Help</a></li>\n    \n        <li class=\"tier-2 element-5\" role=\"treeitem\"><a href=\"http://brochure.getpython.info/\" title=\"\">Python Brochure</a></li>\n    \n</ul>\n\n        \n    </li>\n    \n    <li class=\"tier-1 element-2\">\n        <a href=\"/downloads/\" >Downloads</a>\n        \n            \n\n<ul class=\"subnav menu\">\n    \n        <li class=\"tier-2 element-1\" role=\"treeitem\"><a href=\"/downloads/\" title=\"\">All releases</a></li>\n    \n        <li class=\"tier-2 element-2\" role=\"treeitem\"><a href=\"/downloads/source/\" title=\"\">Source code</a></li>\n    \n        <li class=\"tier-2 element-3\" role=\"treeitem\"><a href=\"/downloads/windows/\" title=\"\">Windows</a></li>\n    \n        <li class=\"tier-2 element-4\" role=\"treeitem\"><a href=\"/downloads/mac-osx/\" title=\"\">Mac OS X</a></li>\n    \n        <li class=\"tier-2 element-5\" role=\"treeitem\"><a href=\"/download/other/\" title=\"\">Other Platforms</a></li>\n    \n        <li class=\"tier-2 element-6\" role=\"treeitem\"><a href=\"https://docs.python.org/3/license.html\" title=\"\">License</a></li>\n    \n        <li class=\"tier-2 element-7\" role=\"treeitem\"><a href=\"/download/alternatives\" title=\"\">Alternative Implementations</a></li>\n    \n</ul>\n\n        \n    </li>\n    \n    <li class=\"tier-1 element-3\">\n        <a href=\"/doc/\" >Documentation</a>\n        \n            \n\n<ul class=\"subnav menu\">\n    \n        <li class=\"tier-2 element-1\" role=\"treeitem\"><a href=\"/doc/\" title=\"\">Docs</a></li>\n    \n        <li class=\"tier-2 element-2\" role=\"treeitem\"><a href=\"/doc/av\" title=\"\">Audio/Visual Talks</a></li>\n    \n        <li class=\"tier-2 element-3\" role=\"treeitem\"><a href=\"https://wiki.python.org/moin/BeginnersGuide\" title=\"\">Beginner&#39;s Guide</a></li>\n    \n        <li class=\"tier-2 element-4\" role=\"treeitem\"><a href=\"https://devguide.python.org/\" title=\"\">Developer&#39;s Guide</a></li>\n    \n        <li class=\"tier-2 element-5\" role=\"treeitem\"><a href=\"https://docs.python.org/faq/\" title=\"\">FAQ</a></li>\n    \n        <li class=\"tier-2 element-6\" role=\"treeitem\"><a href=\"http://wiki.python.org/moin/Languages\" title=\"\">Non-English Docs</a></li>\n    \n        <li class=\"tier-2 element-7\" role=\"treeitem\"><a href=\"http://python.org/dev/peps/\" title=\"\">PEP Index</a></li>\n    \n        <li class=\"tier-2 element-8\" role=\"treeitem\"><a href=\"https://wiki.python.org/moin/PythonBooks\" title=\"\">Python Books</a></li>\n    \n        <li class=\"tier-2 element-9\" role=\"treeitem\"><a href=\"/doc/essays/\" title=\"\">Python Essays</a></li>\n    \n</ul>\n\n        \n    </li>\n    \n    <li class=\"tier-1 element-4\">\n        <a href=\"/community/\" >Community</a>\n        \n            \n\n<ul class=\"subnav menu\">\n    \n        <li class=\"tier-2 element-1\" role=\"treeitem\"><a href=\"/community/diversity/\" title=\"\">Diversity</a></li>\n    \n        <li class=\"tier-2 element-2\" role=\"treeitem\"><a href=\"/community/lists/\" title=\"\">Mailing Lists</a></li>\n    \n        <li class=\"tier-2 element-3\" role=\"treeitem\"><a href=\"/community/irc/\" title=\"\">IRC</a></li>\n    \n        <li class=\"tier-2 element-4\" role=\"treeitem\"><a href=\"/community/forums/\" title=\"\">Forums</a></li>\n    \n        <li class=\"tier-2 element-5\" role=\"treeitem\"><a href=\"/community/workshops/\" title=\"\">Python Conferences</a></li>\n    \n        <li class=\"tier-2 element-6\" role=\"treeitem\"><a href=\"/community/sigs/\" title=\"\">Special Interest Groups</a></li>\n    \n        <li class=\"tier-2 element-7\" role=\"treeitem\"><a href=\"https://wiki.python.org/moin/\" title=\"\">Python Wiki</a></li>\n    \n        <li class=\"tier-2 element-8\" role=\"treeitem\"><a href=\"/community/logos/\" title=\"\">Python Logo</a></li>\n    \n        <li class=\"tier-2 element-9\" role=\"treeitem\"><a href=\"/community/merchandise/\" title=\"\">Merchandise</a></li>\n    \n        <li class=\"tier-2 element-10\" role=\"treeitem\"><a href=\"/community/awards\" title=\"\">Community Awards</a></li>\n    \n        <li class=\"tier-2 element-11\" role=\"treeitem\"><a href=\"https://www.python.org/psf/codeofconduct/\" title=\"\">Code of Conduct</a></li>\n    \n</ul>\n\n        \n    </li>\n    \n    <li class=\"tier-1 element-5\">\n        <a href=\"/about/success/\" title=\"success-stories\">Success Stories</a>\n        \n            \n\n<ul class=\"subnav menu\">\n    \n        <li class=\"tier-2 element-1\" role=\"treeitem\"><a href=\"/about/success/#arts\" title=\"\">Arts</a></li>\n    \n        <li class=\"tier-2 element-2\" role=\"treeitem\"><a href=\"/about/success/#business\" title=\"\">Business</a></li>\n    \n        <li class=\"tier-2 element-3\" role=\"treeitem\"><a href=\"/about/success/#education\" title=\"\">Education</a></li>\n    \n        <li class=\"tier-2 element-4\" role=\"treeitem\"><a href=\"/about/success/#engineering\" title=\"\">Engineering</a></li>\n    \n        <li class=\"tier-2 element-5\" role=\"treeitem\"><a href=\"/about/success/#government\" title=\"\">Government</a></li>\n    \n        <li class=\"tier-2 element-6\" role=\"treeitem\"><a href=\"/about/success/#scientific\" title=\"\">Scientific</a></li>\n    \n        <li class=\"tier-2 element-7\" role=\"treeitem\"><a href=\"/about/success/#software-development\" title=\"\">Software Development</a></li>\n    \n</ul>\n\n        \n    </li>\n    \n    <li class=\"tier-1 element-6\">\n        <a href=\"/blogs/\" title=\"News from around the Python world\">News</a>\n        \n            \n\n<ul class=\"subnav menu\">\n    \n        <li class=\"tier-2 element-1\" role=\"treeitem\"><a href=\"/blogs/\" title=\"Python Insider Blog Posts\">Python News</a></li>\n    \n        <li class=\"tier-2 element-2\" role=\"treeitem\"><a href=\"http://planetpython.org/\" title=\"Planet Python\">Community News</a></li>\n    \n        <li class=\"tier-2 element-3\" role=\"treeitem\"><a href=\"http://pyfound.blogspot.com/\" title=\"PSF Blog\">PSF News</a></li>\n    \n        <li class=\"tier-2 element-4\" role=\"treeitem\"><a href=\"http://pycon.blogspot.com/\" title=\"PyCon Blog\">PyCon News</a></li>\n    \n</ul>\n\n        \n    </li>\n    \n    <li class=\"tier-1 element-7\">\n        <a href=\"/events/\" >Events</a>\n        \n            \n\n<ul class=\"subnav menu\">\n    \n        <li class=\"tier-2 element-1\" role=\"treeitem\"><a href=\"/events/python-events\" title=\"\">Python Events</a></li>\n    \n        <li class=\"tier-2 element-2\" role=\"treeitem\"><a href=\"/events/python-user-group/\" title=\"\">User Group Events</a></li>\n    \n        <li class=\"tier-2 element-3\" role=\"treeitem\"><a href=\"/events/python-events/past/\" title=\"\">Python Events Archive</a></li>\n    \n        <li class=\"tier-2 element-4\" role=\"treeitem\"><a href=\"/events/python-user-group/past/\" title=\"\">User Group Events Archive</a></li>\n    \n        <li class=\"tier-2 element-5\" role=\"treeitem\"><a href=\"https://wiki.python.org/moin/PythonEventsCalendar#Submitting_an_Event\" title=\"\">Submit an Event</a></li>\n    \n</ul>\n\n        \n    </li>\n    \n    <li class=\"tier-1 element-8\">\n        <a href=\"/dev/\" >Contributing</a>\n        \n            \n\n<ul class=\"subnav menu\">\n    \n        <li class=\"tier-2 element-1\" role=\"treeitem\"><a href=\"https://devguide.python.org/\" title=\"\">Developer&#39;s Guide</a></li>\n    \n        <li class=\"tier-2 element-2\" role=\"treeitem\"><a href=\"https://bugs.python.org/\" title=\"\">Issue Tracker</a></li>\n    \n        <li class=\"tier-2 element-3\" role=\"treeitem\"><a href=\"https://mail.python.org/mailman/listinfo/python-dev\" title=\"\">python-dev list</a></li>\n    \n        <li class=\"tier-2 element-4\" role=\"treeitem\"><a href=\"/dev/core-mentorship/\" title=\"\">Core Mentorship</a></li>\n    \n</ul>\n\n        \n    </li>\n    \n</ul>\n\n\n                    <a id=\"back-to-top-2\" class=\"jump-link\" href=\"#python-network\"><span aria-hidden=\"true\" class=\"icon-arrow-up\"><span>&#9650;</span></span> Back to Top</a>\n                    \n\n                </div><!-- end .container -->\n            </div> <!-- end .main-footer-links -->\n\n            <div class=\"site-base\">\n                <div class=\"container\">\n                    \n                    <ul class=\"footer-links navigation menu do-not-print\" role=\"tree\">\n                        <li class=\"tier-1 element-1\"><a href=\"/about/help/\">Help &amp; <span class=\"say-no-more\">General</span> Contact</a></li>\n                        <li class=\"tier-1 element-2\"><a href=\"/community/diversity/\">Diversity <span class=\"say-no-more\">Initiatives</span></a></li>\n                        <li class=\"tier-1 element-3\"><a href=\"https://github.com/python/pythondotorg/issues\">Submit Website Bug</a></li>\n                        <li class=\"tier-1 element-4\">\n                            <a href=\"https://status.python.org/\">Status <span class=\"python-status-indicator-default\" id=\"python-status-indicator\"></span></a>\n                        </li>\n                    </ul>\n\n                    <div class=\"copyright\">\n                        <p><small>\n                            <span class=\"pre\">Copyright &copy;2001-2018.</span>\n                            &nbsp;<span class=\"pre\"><a href=\"/psf-landing/\">Python Software Foundation</a></span>\n                            &nbsp;<span class=\"pre\"><a href=\"/about/legal/\">Legal Statements</a></span>\n                            &nbsp;<span class=\"pre\"><a href=\"/privacy/\">Privacy Policy</a></span>\n                            &nbsp;<span class=\"pre\"><a href=\"/psf/sponsorship/sponsors/\">Powered by Rackspace</a></span>\n                        </small></p>\n                    </div>\n\n                </div><!-- end .container -->\n            </div><!-- end .site-base -->\n\n        </footer>\n\n    </div><!-- end #touchnav-wrapper -->\n\n    \n    <script src=\"//ajax.googleapis.com/ajax/libs/jquery/1.8.2/jquery.min.js\"></script>\n    <script>window.jQuery || document.write('<script src=\"/static/js/libs/jquery-1.8.2.min.js\"><\\/script>')</script>\n\n    <script src=\"/static/js/libs/masonry.pkgd.min.js\"></script>\n\n    <script type=\"text/javascript\" src=\"/static/js/main-min.js\" charset=\"utf-8\"></script>\n    \n\n    <!--[if lte IE 7]>\n    <script type=\"text/javascript\" src=\"/static/js/plugins/IE8-min.js\" charset=\"utf-8\"></script>\n    \n    \n    <![endif]-->\n\n    <!--[if lte IE 8]>\n    <script type=\"text/javascript\" src=\"/static/js/plugins/getComputedStyle-min.js\" charset=\"utf-8\"></script>\n    \n    \n    <![endif]-->\n\n    \n\n    \n    \n\n</body>\n</html>\n\n"
     ]
    }
   ],
   "source": [
    "response = urllib.request.urlopen(\"https://www.python.org/\")\n",
    "print(response.read().decode(\"utf-8\"))"
   ]
  },
  {
   "cell_type": "code",
   "execution_count": 4,
   "metadata": {},
   "outputs": [
    {
     "name": "stdout",
     "output_type": "stream",
     "text": [
      "<class 'http.client.HTTPResponse'>\n"
     ]
    }
   ],
   "source": [
    "print(type(response))"
   ]
  },
  {
   "cell_type": "code",
   "execution_count": 8,
   "metadata": {
    "collapsed": true
   },
   "outputs": [
    {
     "data": {
      "text/plain": [
       "[('Server', 'nginx'),\n ('Content-Type', 'text/html; charset=utf-8'),\n ('X-Frame-Options', 'SAMEORIGIN'),\n ('x-xss-protection', '1; mode=block'),\n ('X-Clacks-Overhead', 'GNU Terry Pratchett'),\n ('Via', '1.1 varnish'),\n ('Content-Length', '48834'),\n ('Accept-Ranges', 'bytes'),\n ('Date', 'Fri, 10 Aug 2018 06:17:36 GMT'),\n ('Via', '1.1 varnish'),\n ('Age', '1505'),\n ('Connection', 'close'),\n ('X-Served-By', 'cache-iad2137-IAD, cache-hkg17935-HKG'),\n ('X-Cache', 'HIT, HIT'),\n ('X-Cache-Hits', '1, 4'),\n ('X-Timer', 'S1533881856.340281,VS0,VE0'),\n ('Vary', 'Cookie'),\n ('Strict-Transport-Security', 'max-age=63072000; includeSubDomains')]"
      ]
     },
     "execution_count": 8,
     "metadata": {},
     "output_type": "execute_result"
    }
   ],
   "source": [
    "response.getheaders()"
   ]
  },
  {
   "cell_type": "code",
   "execution_count": 10,
   "metadata": {},
   "outputs": [
    {
     "data": {
      "text/plain": [
       "'Fri, 10 Aug 2018 06:17:36 GMT'"
      ]
     },
     "execution_count": 10,
     "metadata": {},
     "output_type": "execute_result"
    }
   ],
   "source": [
    "response.getheader(\"Date\")"
   ]
  },
  {
   "cell_type": "code",
   "execution_count": 12,
   "metadata": {},
   "outputs": [
    {
     "data": {
      "text/plain": [
       "200"
      ]
     },
     "execution_count": 12,
     "metadata": {},
     "output_type": "execute_result"
    }
   ],
   "source": [
    "response.status"
   ]
  },
  {
   "cell_type": "code",
   "execution_count": 38,
   "metadata": {
    "collapsed": true
   },
   "outputs": [
    {
     "name": "stdout",
     "output_type": "stream",
     "text": [
      "{\n  \"args\": {}, \n  \"data\": \"\", \n  \"files\": {}, \n  \"form\": {\n    \"word\": \"hello\"\n  }, \n  \"headers\": {\n    \"Accept-Encoding\": \"identity\", \n    \"Connection\": \"close\", \n    \"Content-Length\": \"10\", \n    \"Content-Type\": \"application/x-www-form-urlencoded\", \n    \"Host\": \"httpbin.org\", \n    \"User-Agent\": \"Python-urllib/3.6\"\n  }, \n  \"json\": null, \n  \"origin\": \"218.193.130.47\", \n  \"url\": \"http://httpbin.org/post\"\n}\n\n"
     ]
    }
   ],
   "source": [
    "import urllib.parse\n",
    "import urllib.request\n",
    "data = bytes(urllib.parse.urlencode({\"word\": \"hello\"}), encoding='utf8')\n",
    "response = urllib.request.urlopen('http://httpbin.org/post', data=data)\n",
    "print(response.read().decode(\"utf-8\"))\n"
   ]
  },
  {
   "cell_type": "code",
   "execution_count": 29,
   "metadata": {},
   "outputs": [
    {
     "name": "stdout",
     "output_type": "stream",
     "text": [
      "b'{\\n  \"args\": {}, \\n  \"headers\": {\\n    \"Accept-Encoding\": \"identity\", \\n    \"Connection\": \"close\", \\n    \"Host\": \"httpbin.org\", \\n    \"User-Agent\": \"Python-urllib/3.6\"\\n  }, \\n  \"origin\": \"218.193.130.47\", \\n  \"url\": \"http://httpbin.org/get\"\\n}\\n'\n"
     ]
    }
   ],
   "source": [
    "import urllib.request\n",
    "response = urllib.request.urlopen(\"http://httpbin.org/get\",timeout=1)\n",
    "print(response.read())"
   ]
  },
  {
   "cell_type": "code",
   "execution_count": 37,
   "metadata": {},
   "outputs": [
    {
     "name": "stdout",
     "output_type": "stream",
     "text": [
      "TIME OUT\nb''\n"
     ]
    }
   ],
   "source": [
    "import socket\n",
    "import urllib.request\n",
    "import urllib.error\n",
    "try:\n",
    "    response = urllib.request.urlopen(\"http://httpbin.org/get\",timeout=0.01)\n",
    "except urllib.error.URLError as e:\n",
    "    if isinstance(e.reason,socket.timeout):\n",
    "        print(\"TIME OUT\")"
   ]
  },
  {
   "cell_type": "markdown",
   "metadata": {},
   "source": [
    "##request"
   ]
  },
  {
   "cell_type": "code",
   "execution_count": 43,
   "metadata": {
    "collapsed": true
   },
   "outputs": [
    {
     "name": "stdout",
     "output_type": "stream",
     "text": [
      "<!doctype html>\n<!--[if lt IE 7]>   <html class=\"no-js ie6 lt-ie7 lt-ie8 lt-ie9\">   <![endif]-->\n<!--[if IE 7]>      <html class=\"no-js ie7 lt-ie8 lt-ie9\">          <![endif]-->\n<!--[if IE 8]>      <html class=\"no-js ie8 lt-ie9\">                 <![endif]-->\n<!--[if gt IE 8]><!--><html class=\"no-js\" lang=\"en\" dir=\"ltr\">  <!--<![endif]-->\n\n<head>\n    <meta charset=\"utf-8\">\n    <meta http-equiv=\"X-UA-Compatible\" content=\"IE=edge\">\n\n    <link rel=\"prefetch\" href=\"//ajax.googleapis.com/ajax/libs/jquery/1.8.2/jquery.min.js\">\n\n    <meta name=\"application-name\" content=\"Python.org\">\n    <meta name=\"msapplication-tooltip\" content=\"The official home of the Python Programming Language\">\n    <meta name=\"apple-mobile-web-app-title\" content=\"Python.org\">\n    <meta name=\"apple-mobile-web-app-capable\" content=\"yes\">\n    <meta name=\"apple-mobile-web-app-status-bar-style\" content=\"black\">\n\n    <meta name=\"viewport\" content=\"width=device-width, initial-scale=1.0\">\n    <meta name=\"HandheldFriendly\" content=\"True\">\n    <meta name=\"format-detection\" content=\"telephone=no\">\n    <meta http-equiv=\"cleartype\" content=\"on\">\n    <meta http-equiv=\"imagetoolbar\" content=\"false\">\n\n    <script src=\"/static/js/libs/modernizr.js\"></script>\n\n    <link href=\"/static/stylesheets/style.css\" rel=\"stylesheet\" type=\"text/css\" title=\"default\" />\n    <link href=\"/static/stylesheets/mq.css\" rel=\"stylesheet\" type=\"text/css\" media=\"not print, braille, embossed, speech, tty\" />\n    \n\n    <!--[if (lte IE 8)&(!IEMobile)]>\n    <link href=\"/static/stylesheets/no-mq.css\" rel=\"stylesheet\" type=\"text/css\" media=\"screen\" />\n    \n    \n    <![endif]-->\n\n    \n    <link rel=\"icon\" type=\"image/x-icon\" href=\"/static/favicon.ico\">\n    <link rel=\"apple-touch-icon-precomposed\" sizes=\"144x144\" href=\"/static/apple-touch-icon-144x144-precomposed.png\">\n    <link rel=\"apple-touch-icon-precomposed\" sizes=\"114x114\" href=\"/static/apple-touch-icon-114x114-precomposed.png\">\n    <link rel=\"apple-touch-icon-precomposed\" sizes=\"72x72\" href=\"/static/apple-touch-icon-72x72-precomposed.png\">\n    <link rel=\"apple-touch-icon-precomposed\" href=\"/static/apple-touch-icon-precomposed.png\">\n    <link rel=\"apple-touch-icon\" href=\"/static/apple-touch-icon-precomposed.png\">\n\n    \n    <meta name=\"msapplication-TileImage\" content=\"/static/metro-icon-144x144-precomposed.png\"><!-- white shape -->\n    <meta name=\"msapplication-TileColor\" content=\"#3673a5\"><!-- python blue -->\n    <meta name=\"msapplication-navbutton-color\" content=\"#3673a5\">\n\n    <title>Welcome to Python.org</title>\n\n    <meta name=\"description\" content=\"The official home of the Python Programming Language\">\n    <meta name=\"keywords\" content=\"Python programming language object oriented web free open source software license documentation download community\">\n\n    \n    <meta property=\"og:type\" content=\"website\">\n    <meta property=\"og:site_name\" content=\"Python.org\">\n    <meta property=\"og:title\" content=\"Welcome to Python.org\">\n    <meta property=\"og:description\" content=\"The official home of the Python Programming Language\">\n    \n    <meta property=\"og:image\" content=\"https://www.python.org/static/opengraph-icon-200x200.png\">\n    <meta property=\"og:image:secure_url\" content=\"https://www.python.org/static/opengraph-icon-200x200.png\">\n    \n    <meta property=\"og:url\" content=\"https://www.python.org/\">\n\n    <link rel=\"author\" href=\"/static/humans.txt\">\n\n    <link rel=\"alternate\" type=\"application/rss+xml\" title=\"Python Enhancement Proposals\"\n          href=\"https://www.python.org/dev/peps/peps.rss/\">\n    <link rel=\"alternate\" type=\"application/rss+xml\" title=\"Python Job Opportunities\"\n          href=\"https://www.python.org/jobs/feed/rss/\">\n    <link rel=\"alternate\" type=\"application/rss+xml\" title=\"Python Software Foundation News\"\n          href=\"https://feeds.feedburner.com/PythonSoftwareFoundationNews\">\n    <link rel=\"alternate\" type=\"application/rss+xml\" title=\"Python Insider\"\n          href=\"https://feeds.feedburner.com/PythonInsider\">\n\n    \n\n    \n    <script type=\"application/ld+json\">\n     {\n       \"@context\": \"http://schema.org\",\n       \"@type\": \"WebSite\",\n       \"url\": \"https://www.python.org/\",\n       \"potentialAction\": {\n         \"@type\": \"SearchAction\",\n         \"target\": \"https://www.python.org/search/?q={search_term_string}\",\n         \"query-input\": \"required name=search_term_string\"\n       }\n     }\n    </script>\n\n    \n    <script type=\"text/javascript\">\n    var _gaq = _gaq || [];\n    _gaq.push(['_setAccount', 'UA-39055973-1']);\n    _gaq.push(['_trackPageview']);\n\n    (function() {\n        var ga = document.createElement('script'); ga.type = 'text/javascript'; ga.async = true;\n        ga.src = ('https:' == document.location.protocol ? 'https://ssl' : 'http://www') + '.google-analytics.com/ga.js';\n        var s = document.getElementsByTagName('script')[0]; s.parentNode.insertBefore(ga, s);\n    })();\n    </script>\n    \n</head>\n\n<body class=\"python home\" id=\"homepage\">\n\n    <div id=\"touchnav-wrapper\">\n\n        <div id=\"nojs\" class=\"do-not-print\">\n            <p><strong>Notice:</strong> While Javascript is not essential for this website, your interaction with the content will be limited. Please turn Javascript on for the full experience. </p>\n        </div>\n\n        <!--[if lt IE 8]>\n        <div id=\"oldie-warning\" class=\"do-not-print\">\n            <p><strong>Notice:</strong> Your browser is <em>ancient</em> and <a href=\"http://www.ie6countdown.com/\">Microsoft agrees</a>. <a href=\"http://browsehappy.com/\">Upgrade to a different browser</a> or <a href=\"http://www.google.com/chromeframe/?redirect=true\">install Google Chrome Frame</a> to experience a better web.</p>\n        </div>\n        <![endif]-->\n\n        <!-- Sister Site Links -->\n        <div id=\"top\" class=\"top-bar do-not-print\">\n\n            <nav class=\"meta-navigation container\" role=\"navigation\">\n\n                \n                <div class=\"skip-link screen-reader-text\">\n                    <a href=\"#content\" title=\"Skip to content\">Skip to content</a>\n                </div>\n\n                \n                <a id=\"close-python-network\" class=\"jump-link\" href=\"#python-network\" aria-hidden=\"true\">\n                    <span aria-hidden=\"true\" class=\"icon-arrow-down\"><span>&#9660;</span></span> Close\n                </a>\n\n                \n\n<ul class=\"menu\" role=\"tree\">\n    \n    <li class=\"python-meta current_item selectedcurrent_branch selected\">\n        <a href=\"/\" title=\"The Python Programming Language\" class=\"current_item selectedcurrent_branch selected\">Python</a>\n    </li>\n    \n    <li class=\"psf-meta \">\n        <a href=\"/psf-landing/\" title=\"The Python Software Foundation\" >PSF</a>\n    </li>\n    \n    <li class=\"docs-meta \">\n        <a href=\"https://docs.python.org\" title=\"Python Documentation\" >Docs</a>\n    </li>\n    \n    <li class=\"pypi-meta \">\n        <a href=\"https://pypi.python.org/\" title=\"Python Package Index\" >PyPI</a>\n    </li>\n    \n    <li class=\"jobs-meta \">\n        <a href=\"/jobs/\" title=\"Python Job Board\" >Jobs</a>\n    </li>\n    \n    <li class=\"shop-meta \">\n        <a href=\"/community/\" title=\"Python Community\" >Community</a>\n    </li>\n    \n</ul>\n\n\n                <a id=\"python-network\" class=\"jump-link\" href=\"#top\" aria-hidden=\"true\">\n                    <span aria-hidden=\"true\" class=\"icon-arrow-up\"><span>&#9650;</span></span> The Python Network\n                </a>\n\n            </nav>\n\n        </div>\n\n        <!-- Header elements -->\n        <header class=\"main-header\" role=\"banner\">\n            <div class=\"container\">\n\n                <h1 class=\"site-headline\">\n                    <a href=\"/\"><img class=\"python-logo\" src=\"/static/img/python-logo.png\" alt=\"python&trade;\"></a>\n                </h1>\n\n                <div class=\"options-bar do-not-print\">\n\n                    \n                    <a id=\"site-map-link\" class=\"jump-to-menu\" href=\"#site-map\"><span class=\"menu-icon\">&equiv;</span> Menu</a><form class=\"search-the-site\" action=\"/search/\" method=\"get\">\n                        <fieldset title=\"Search Python.org\">\n\n                            <span aria-hidden=\"true\" class=\"icon-search\"></span>\n\n                            <label class=\"screen-reader-text\" for=\"id-search-field\">Search This Site</label>\n                            <input id=\"id-search-field\" name=\"q\" type=\"search\" role=\"textbox\" class=\"search-field\" placeholder=\"Search\" value=\"\" tabindex=\"1\">\n\n                            <button type=\"submit\" name=\"submit\" id=\"submit\" class=\"search-button\" title=\"Submit this Search\" tabindex=\"3\">\n                                GO\n                            </button>\n\n                            \n                            <!--[if IE]><input type=\"text\" style=\"display: none;\" disabled=\"disabled\" size=\"1\" tabindex=\"4\"><![endif]-->\n\n                        </fieldset>\n                    </form><span class=\"breaker\"></span><div class=\"adjust-font-size\" aria-hidden=\"true\">\n                        <ul class=\"navigation menu\" aria-label=\"Adjust Text Size on Page\">\n                            <li class=\"tier-1 last\" aria-haspopup=\"true\">\n                                <a href=\"#\" class=\"action-trigger\"><strong><small>A</small> A</strong></a>\n                                <ul class=\"subnav menu\">\n                                    <li class=\"tier-2 element-1\" role=\"treeitem\"><a class=\"text-shrink\" title=\"Make Text Smaller\" href=\"javascript:;\">Smaller</a></li>\n                                    <li class=\"tier-2 element-2\" role=\"treeitem\"><a class=\"text-grow\" title=\"Make Text Larger\" href=\"javascript:;\">Larger</a></li>\n                                    <li class=\"tier-2 element-3\" role=\"treeitem\"><a class=\"text-reset\" title=\"Reset any font size changes I have made\" href=\"javascript:;\">Reset</a></li>\n                                </ul>\n                            </li>\n                        </ul>\n                    </div><div class=\"winkwink-nudgenudge\">\n                        <ul class=\"navigation menu\" aria-label=\"Social Media Navigation\">\n                            <li class=\"tier-1 last\" aria-haspopup=\"true\">\n                                <a href=\"#\" class=\"action-trigger\">Socialize</a>\n                                <ul class=\"subnav menu\">\n                                    <li class=\"tier-2 element-1\" role=\"treeitem\"><a href=\"http://plus.google.com/+Python\"><span aria-hidden=\"true\" class=\"icon-google-plus\"></span>Google+</a></li>\n                                    <li class=\"tier-2 element-2\" role=\"treeitem\"><a href=\"http://www.facebook.com/pythonlang?fref=ts\"><span aria-hidden=\"true\" class=\"icon-facebook\"></span>Facebook</a></li>\n                                    <li class=\"tier-2 element-3\" role=\"treeitem\"><a href=\"http://twitter.com/ThePSF\"><span aria-hidden=\"true\" class=\"icon-twitter\"></span>Twitter</a></li>\n                                    <li class=\"tier-2 element-4\" role=\"treeitem\"><a href=\"/community/irc/\"><span aria-hidden=\"true\" class=\"icon-freenode\"></span>Chat on IRC</a></li>\n                                </ul>\n                            </li>\n                        </ul>\n                    </div><div class=\"account-signin\">\n                        <ul class=\"navigation menu\" aria-label=\"Social Media Navigation\">\n                            <li class=\"tier-1 last\" aria-haspopup=\"true\">\n                                \n                                <a href=\"/accounts/login/\" title=\"Sign Up or Sign In to Python.org\">Sign In</a>\n                                <ul class=\"subnav menu\">\n                                    <li class=\"tier-2 element-1\" role=\"treeitem\"><a href=\"/accounts/signup/\">Sign Up / Register</a></li>\n                                    <li class=\"tier-2 element-2\" role=\"treeitem\"><a href=\"/accounts/login/\">Sign In</a></li>\n                                </ul>\n                                \n                            </li>\n                        </ul>\n                    </div>\n\n                </div><!-- end options-bar -->\n\n                <nav id=\"mainnav\" class=\"python-navigation main-navigation do-not-print\" role=\"navigation\">\n                    \n                        \n<ul class=\"navigation menu\" role=\"menubar\" aria-label=\"Main Navigation\">\n  \n    \n    \n    <li id=\"about\" class=\"tier-1 element-1  \" aria-haspopup=\"true\">\n        <a href=\"/about/\" title=\"\" class=\"\">About</a>\n        \n            \n\n<ul class=\"subnav menu\" role=\"menu\" aria-hidden=\"true\">\n    \n        <li class=\"tier-2 element-1\" role=\"treeitem\"><a href=\"/about/apps/\" title=\"\">Applications</a></li>\n    \n        <li class=\"tier-2 element-2\" role=\"treeitem\"><a href=\"/about/quotes/\" title=\"\">Quotes</a></li>\n    \n        <li class=\"tier-2 element-3\" role=\"treeitem\"><a href=\"/about/gettingstarted/\" title=\"\">Getting Started</a></li>\n    \n        <li class=\"tier-2 element-4\" role=\"treeitem\"><a href=\"/about/help/\" title=\"\">Help</a></li>\n    \n        <li class=\"tier-2 element-5\" role=\"treeitem\"><a href=\"http://brochure.getpython.info/\" title=\"\">Python Brochure</a></li>\n    \n</ul>\n\n        \n    </li>\n    \n    \n    \n    <li id=\"downloads\" class=\"tier-1 element-2  \" aria-haspopup=\"true\">\n        <a href=\"/downloads/\" title=\"\" class=\"\">Downloads</a>\n        \n            \n\n<ul class=\"subnav menu\" role=\"menu\" aria-hidden=\"true\">\n    \n        <li class=\"tier-2 element-1\" role=\"treeitem\"><a href=\"/downloads/\" title=\"\">All releases</a></li>\n    \n        <li class=\"tier-2 element-2\" role=\"treeitem\"><a href=\"/downloads/source/\" title=\"\">Source code</a></li>\n    \n        <li class=\"tier-2 element-3\" role=\"treeitem\"><a href=\"/downloads/windows/\" title=\"\">Windows</a></li>\n    \n        <li class=\"tier-2 element-4\" role=\"treeitem\"><a href=\"/downloads/mac-osx/\" title=\"\">Mac OS X</a></li>\n    \n        <li class=\"tier-2 element-5\" role=\"treeitem\"><a href=\"/download/other/\" title=\"\">Other Platforms</a></li>\n    \n        <li class=\"tier-2 element-6\" role=\"treeitem\"><a href=\"https://docs.python.org/3/license.html\" title=\"\">License</a></li>\n    \n        <li class=\"tier-2 element-7\" role=\"treeitem\"><a href=\"/download/alternatives\" title=\"\">Alternative Implementations</a></li>\n    \n</ul>\n\n        \n    </li>\n    \n    \n    \n    <li id=\"documentation\" class=\"tier-1 element-3  \" aria-haspopup=\"true\">\n        <a href=\"/doc/\" title=\"\" class=\"\">Documentation</a>\n        \n            \n\n<ul class=\"subnav menu\" role=\"menu\" aria-hidden=\"true\">\n    \n        <li class=\"tier-2 element-1\" role=\"treeitem\"><a href=\"/doc/\" title=\"\">Docs</a></li>\n    \n        <li class=\"tier-2 element-2\" role=\"treeitem\"><a href=\"/doc/av\" title=\"\">Audio/Visual Talks</a></li>\n    \n        <li class=\"tier-2 element-3\" role=\"treeitem\"><a href=\"https://wiki.python.org/moin/BeginnersGuide\" title=\"\">Beginner&#39;s Guide</a></li>\n    \n        <li class=\"tier-2 element-4\" role=\"treeitem\"><a href=\"https://devguide.python.org/\" title=\"\">Developer&#39;s Guide</a></li>\n    \n        <li class=\"tier-2 element-5\" role=\"treeitem\"><a href=\"https://docs.python.org/faq/\" title=\"\">FAQ</a></li>\n    \n        <li class=\"tier-2 element-6\" role=\"treeitem\"><a href=\"http://wiki.python.org/moin/Languages\" title=\"\">Non-English Docs</a></li>\n    \n        <li class=\"tier-2 element-7\" role=\"treeitem\"><a href=\"http://python.org/dev/peps/\" title=\"\">PEP Index</a></li>\n    \n        <li class=\"tier-2 element-8\" role=\"treeitem\"><a href=\"https://wiki.python.org/moin/PythonBooks\" title=\"\">Python Books</a></li>\n    \n        <li class=\"tier-2 element-9\" role=\"treeitem\"><a href=\"/doc/essays/\" title=\"\">Python Essays</a></li>\n    \n</ul>\n\n        \n    </li>\n    \n    \n    \n    <li id=\"community\" class=\"tier-1 element-4  \" aria-haspopup=\"true\">\n        <a href=\"/community/\" title=\"\" class=\"\">Community</a>\n        \n            \n\n<ul class=\"subnav menu\" role=\"menu\" aria-hidden=\"true\">\n    \n        <li class=\"tier-2 element-1\" role=\"treeitem\"><a href=\"/community/diversity/\" title=\"\">Diversity</a></li>\n    \n        <li class=\"tier-2 element-2\" role=\"treeitem\"><a href=\"/community/lists/\" title=\"\">Mailing Lists</a></li>\n    \n        <li class=\"tier-2 element-3\" role=\"treeitem\"><a href=\"/community/irc/\" title=\"\">IRC</a></li>\n    \n        <li class=\"tier-2 element-4\" role=\"treeitem\"><a href=\"/community/forums/\" title=\"\">Forums</a></li>\n    \n        <li class=\"tier-2 element-5\" role=\"treeitem\"><a href=\"/community/workshops/\" title=\"\">Python Conferences</a></li>\n    \n        <li class=\"tier-2 element-6\" role=\"treeitem\"><a href=\"/community/sigs/\" title=\"\">Special Interest Groups</a></li>\n    \n        <li class=\"tier-2 element-7\" role=\"treeitem\"><a href=\"https://wiki.python.org/moin/\" title=\"\">Python Wiki</a></li>\n    \n        <li class=\"tier-2 element-8\" role=\"treeitem\"><a href=\"/community/logos/\" title=\"\">Python Logo</a></li>\n    \n        <li class=\"tier-2 element-9\" role=\"treeitem\"><a href=\"/community/merchandise/\" title=\"\">Merchandise</a></li>\n    \n        <li class=\"tier-2 element-10\" role=\"treeitem\"><a href=\"/community/awards\" title=\"\">Community Awards</a></li>\n    \n        <li class=\"tier-2 element-11\" role=\"treeitem\"><a href=\"https://www.python.org/psf/codeofconduct/\" title=\"\">Code of Conduct</a></li>\n    \n</ul>\n\n        \n    </li>\n    \n    \n    \n    <li id=\"success-stories\" class=\"tier-1 element-5  \" aria-haspopup=\"true\">\n        <a href=\"/about/success/\" title=\"success-stories\" class=\"\">Success Stories</a>\n        \n            \n\n<ul class=\"subnav menu\" role=\"menu\" aria-hidden=\"true\">\n    \n        <li class=\"tier-2 element-1\" role=\"treeitem\"><a href=\"/about/success/#arts\" title=\"\">Arts</a></li>\n    \n        <li class=\"tier-2 element-2\" role=\"treeitem\"><a href=\"/about/success/#business\" title=\"\">Business</a></li>\n    \n        <li class=\"tier-2 element-3\" role=\"treeitem\"><a href=\"/about/success/#education\" title=\"\">Education</a></li>\n    \n        <li class=\"tier-2 element-4\" role=\"treeitem\"><a href=\"/about/success/#engineering\" title=\"\">Engineering</a></li>\n    \n        <li class=\"tier-2 element-5\" role=\"treeitem\"><a href=\"/about/success/#government\" title=\"\">Government</a></li>\n    \n        <li class=\"tier-2 element-6\" role=\"treeitem\"><a href=\"/about/success/#scientific\" title=\"\">Scientific</a></li>\n    \n        <li class=\"tier-2 element-7\" role=\"treeitem\"><a href=\"/about/success/#software-development\" title=\"\">Software Development</a></li>\n    \n</ul>\n\n        \n    </li>\n    \n    \n    \n    <li id=\"news\" class=\"tier-1 element-6  \" aria-haspopup=\"true\">\n        <a href=\"/blogs/\" title=\"News from around the Python world\" class=\"\">News</a>\n        \n            \n\n<ul class=\"subnav menu\" role=\"menu\" aria-hidden=\"true\">\n    \n        <li class=\"tier-2 element-1\" role=\"treeitem\"><a href=\"/blogs/\" title=\"Python Insider Blog Posts\">Python News</a></li>\n    \n        <li class=\"tier-2 element-2\" role=\"treeitem\"><a href=\"http://planetpython.org/\" title=\"Planet Python\">Community News</a></li>\n    \n        <li class=\"tier-2 element-3\" role=\"treeitem\"><a href=\"http://pyfound.blogspot.com/\" title=\"PSF Blog\">PSF News</a></li>\n    \n        <li class=\"tier-2 element-4\" role=\"treeitem\"><a href=\"http://pycon.blogspot.com/\" title=\"PyCon Blog\">PyCon News</a></li>\n    \n</ul>\n\n        \n    </li>\n    \n    \n    \n    <li id=\"events\" class=\"tier-1 element-7  \" aria-haspopup=\"true\">\n        <a href=\"/events/\" title=\"\" class=\"\">Events</a>\n        \n            \n\n<ul class=\"subnav menu\" role=\"menu\" aria-hidden=\"true\">\n    \n        <li class=\"tier-2 element-1\" role=\"treeitem\"><a href=\"/events/python-events\" title=\"\">Python Events</a></li>\n    \n        <li class=\"tier-2 element-2\" role=\"treeitem\"><a href=\"/events/python-user-group/\" title=\"\">User Group Events</a></li>\n    \n        <li class=\"tier-2 element-3\" role=\"treeitem\"><a href=\"/events/python-events/past/\" title=\"\">Python Events Archive</a></li>\n    \n        <li class=\"tier-2 element-4\" role=\"treeitem\"><a href=\"/events/python-user-group/past/\" title=\"\">User Group Events Archive</a></li>\n    \n        <li class=\"tier-2 element-5\" role=\"treeitem\"><a href=\"https://wiki.python.org/moin/PythonEventsCalendar#Submitting_an_Event\" title=\"\">Submit an Event</a></li>\n    \n</ul>\n\n        \n    </li>\n    \n    \n    \n    \n  \n</ul>\n\n                    \n                </nav>\n\n                <div class=\"header-banner \"> <!-- for optional \"do-not-print\" class -->\n                    \n        <div id=\"dive-into-python\" class=\"flex-slideshow slideshow\">\n\n            <ul class=\"launch-shell menu\" id=\"launch-shell\">\n                <li>\n                    <a class=\"button prompt\" id=\"start-shell\" data-shell-container=\"#dive-into-python\" href=\"/shell/\">&gt;_\n                        <span class=\"message\">Launch Interactive Shell</span>\n                    </a>\n                </li>\n            </ul>\n\n            <ul class=\"slides menu\">\n                \n                <li>\n                    <div class=\"slide-code\"><pre><code><span class=\"comment\"># Python 3: Fibonacci series up to n</span>\r\n>>> def fib(n):\r\n>>>     a, b = 0, 1\r\n>>>     while a &lt; n:\r\n>>>         print(a, end=' ')\r\n>>>         a, b = b, a+b\r\n>>>     print()\r\n>>> fib(1000)\r\n<span class=\"output\">0 1 1 2 3 5 8 13 21 34 55 89 144 233 377 610 987</span></code></pre></div>\n                    <div class=\"slide-copy\"><h1>Functions Defined</h1>\r\n<p>The core of extensible programming is defining functions. Python allows mandatory and optional arguments, keyword arguments, and even arbitrary argument lists. <a href=\"//docs.python.org/3/tutorial/controlflow.html#defining-functions\">More about defining functions in Python&nbsp;3</a></p></div>\n                </li>\n                \n                <li>\n                    <div class=\"slide-code\"><pre><code><span class=\"comment\"># Python 3: List comprehensions</span>\r\n>>> fruits = ['Banana', 'Apple', 'Lime']\r\n>>> loud_fruits = [fruit.upper() for fruit in fruits]\r\n>>> print(loud_fruits)\r\n<span class=\"output\">['BANANA', 'APPLE', 'LIME']</span>\r\n\r\n<span class=\"comment\"># List and the enumerate function</span>\r\n>>> list(enumerate(fruits))\r\n<span class=\"output\">[(0, 'Banana'), (1, 'Apple'), (2, 'Lime')]</span></code></pre></div>\n                    <div class=\"slide-copy\"><h1>Compound Data Types</h1>\r\n<p>Lists (known as arrays in other languages) are one of the compound data types that Python understands. Lists can be indexed, sliced and manipulated with other built-in functions. <a href=\"//docs.python.org/3/tutorial/introduction.html#lists\">More about lists in Python&nbsp;3</a></p></div>\n                </li>\n                \n                <li>\n                    <div class=\"slide-code\"><pre><code><span class=\"comment\"># Python 3: Simple arithmetic</span>\r\n>>> 1 / 2\r\n<span class=\"output\">0.5</span>\r\n>>> 2 ** 3\r\n<span class=\"output\">8</span>\r\n>>> 17 / 3  <span class=\"comment\"># classic division returns a float</span>\r\n<span class=\"output\">5.666666666666667</span>\r\n>>> 17 // 3  <span class=\"comment\"># floor division</span>\r\n<span class=\"output\">5</span></code></pre></div>\n                    <div class=\"slide-copy\"><h1>Intuitive Interpretation</h1>\r\n<p>Calculations are simple with Python, and expression syntax is straightforward: the operators <code>+</code>, <code>-</code>, <code>*</code> and <code>/</code> work as expected; parentheses <code>()</code> can be used for grouping. <a href=\"http://docs.python.org/3/tutorial/introduction.html#using-python-as-a-calculator\">More about simple math functions in Python&nbsp;3</a>.</p></div>\n                </li>\n                \n                <li>\n                    <div class=\"slide-code\"><pre><code><span class=\"comment\"># Python 3: Simple output (with Unicode)</span>\r\n>>> print(\"Hello, I'm Python!\")\r\n<span class=\"output\">Hello, I'm Python!</span>\r\n\r\n<span class=\"comment\"># Input, assignment</span>\r\n>>> name = input('What is your name?\\n')\r\n>>> print('Hi, %s.' % name)\r\n<span class=\"output\">What is your name?\r\nPython\r\nHi, Python.</span></code></pre></div>\n                    <div class=\"slide-copy\"><h1>Quick &amp; Easy to Learn</h1>\r\n<p>Experienced programmers in any other language can pick up Python very quickly, and beginners find the clean syntax and indentation structure easy to learn. <a href=\"//docs.python.org/3/tutorial/\">Whet your appetite</a> with our Python&nbsp;3 overview.</p>\r\n                   </div>\n                </li>\n                \n                <li>\n                    <div class=\"slide-code\"><pre><code><span class=\"comment\"># For loop on a list</span>\r\n>>> numbers = [2, 4, 6, 8]\r\n>>> product = 1\r\n>>> for number in numbers:\r\n...    product = product * number\r\n... \r\n>>> print('The product is:', product)\r\n<span class=\"output\">The product is: 384</span></code></pre></div>\n                    <div class=\"slide-copy\"><h1>All the Flow You&rsquo;d Expect</h1>\r\n<p>Python knows the usual control flow statements that other languages speak &mdash; <code>if</code>, <code>for</code>, <code>while</code> and <code>range</code> &mdash; with some of its own twists, of course. <a href=\"//docs.python.org/3/tutorial/controlflow.html\">More control flow tools in Python&nbsp;3</a></p></div>\n                </li>\n                \n            </ul>\n        </div>\n\n\n                </div>\n\n                \n        <div class=\"introduction\">\n            <p>Python is a programming language that lets you work quickly <span class=\"breaker\"></span>and integrate systems more effectively. <a class=\"readmore\" href=\"/doc/\">Learn More</a></p>\n        </div>\n\n\n             </div><!-- end .container -->\n        </header>\n\n        <div id=\"content\" class=\"content-wrapper\">\n            <!-- Main Content Column -->\n            <div class=\"container\">\n\n                <section class=\"main-content \" role=\"main\">\n\n                    \n                    \n\n                    \n\n                    \n\n                <div class=\"row\">\n\n                    <div class=\"small-widget get-started-widget\">\n                        <h2 class=\"widget-title\"><span aria-hidden=\"true\" class=\"icon-get-started\"></span>Get Started</h2>\r\n<p>Whether you're new to programming or an experienced developer, it's easy to learn and use Python.</p>\r\n<p><a href=\"/about/gettingstarted/\">Start with our Beginner&rsquo;s Guide</a></p>\n                    </div>\n\n                    <div class=\"small-widget download-widget\">\n                        <h2 class=\"widget-title\"><span aria-hidden=\"true\" class=\"icon-download\"></span>Download</h2>\n<p>Python source code and installers are available for download for all versions!</p>\n<p>Latest: <a href=\"/downloads/release/python-370/\">Python 3.7.0</a></p>\n                    </div>\n\n                    <div class=\"small-widget documentation-widget\">\n                        <h2 class=\"widget-title\"><span aria-hidden=\"true\" class=\"icon-documentation\"></span>Docs</h2>\r\n<p>Documentation for Python's standard library, along with tutorials and guides, are available online.</p>\r\n<p><a href=\"https://docs.python.org\">docs.python.org</a></p>\n                    </div>\n\n                    <div class=\"small-widget jobs-widget last\">\n                        <h2 class=\"widget-title\"><span aria-hidden=\"true\" class=\"icon-jobs\"></span>Jobs</h2>\r\n<p>Looking for work or have a Python related position that you're trying to hire for? Our <strong>relaunched community-run job board</strong> is the place to go.</p>\r\n<p><a href=\"//jobs.python.org\">jobs.python.org</a></p>\n                    </div>\n\n                </div>\n\n                <div class=\"list-widgets row\">\n\n                    <div class=\"medium-widget blog-widget\">\n                        \n                        <div class=\"shrubbery\">\n                        \n                            <h2 class=\"widget-title\"><span aria-hidden=\"true\" class=\"icon-news\"></span>Latest News</h2>\n                            <p class=\"give-me-more\"><a href=\"http://blog.python.org\" title=\"More News\">More</a></p>\n                            \n                            <ul class=\"menu\">\n                                \n                                \n                                <li>\n<time datetime=\"2018-08-02T14:03:00.000003+00:00\"><span class=\"say-no-more\">2018-</span>08-02</time>\n <a href=\"http://feedproxy.google.com/~r/PythonInsider/~3/5EA0ClmtbD8/python-356-and-python-349-are-now.html\">Python 3.5.6 and Python 3.4.9 are now available. You can&nbsp;download ...</a></li>\n                                \n                                <li>\n<time datetime=\"2018-06-28T00:00:00.000003+00:00\"><span class=\"say-no-more\">2018-</span>06-28</time>\n <a href=\"http://feedproxy.google.com/~r/PythonInsider/~3/RMqgTQsV720/python-3.html\">Python&nbsp;3.7.0&nbsp;is now available (and so is 3.6.6)! On behalf of ...</a></li>\n                                \n                                <li>\n<time datetime=\"2018-06-12T20:26:00.000001+00:00\"><span class=\"say-no-more\">2018-</span>06-12</time>\n <a href=\"http://feedproxy.google.com/~r/PythonInsider/~3/PuHgTVhNAAE/python-370rc1-and-366rc1-now-available.html\">Python&nbsp;3.7.0rc1&nbsp;and&nbsp;3.6.6rc1&nbsp;are now available. 3.7.0rc1 is the&nbsp;final planned release preview&nbsp;of&nbsp;Python 3.7, ...</a></li>\n                                \n                                <li>\n<time datetime=\"2018-05-31T04:30:00.000003+00:00\"><span class=\"say-no-more\">2018-</span>05-31</time>\n <a href=\"http://feedproxy.google.com/~r/PythonInsider/~3/rPQiRIs2Qhg/python-370b5-bonus-beta-is-now.html\">A 3.7 update: Python&nbsp;3.7.0b5&nbsp;is now the&nbsp;final beta preview&nbsp;of&nbsp;Python 3.7, the ...</a></li>\n                                \n                                <li>\n<time datetime=\"2018-05-03T00:18:00.000003+00:00\"><span class=\"say-no-more\">2018-</span>05-03</time>\n <a href=\"http://feedproxy.google.com/~r/PythonInsider/~3/vo7OgsISIdQ/python-370b4-final-37-beta-now.html\">Python&nbsp;3.7.0b4&nbsp;is the&nbsp;final beta preview&nbsp;of&nbsp;Python 3.7, the next feature release of ...</a></li>\n                                \n                            </ul>\n                        </div><!-- end .shrubbery -->\n\n                    </div>\n\n                    <div class=\"medium-widget event-widget last\">\n                        \n                        <div class=\"shrubbery\">\n                        \n                            <h2 class=\"widget-title\"><span aria-hidden=\"true\" class=\"icon-calendar\"></span>Upcoming Events</h2>\n                            <p class=\"give-me-more\"><a href=\"/events/calendars/\" title=\"More Events\">More</a></p>\n                            \n                            <ul class=\"menu\">\n                                \n                                \n                                \n                                <li>\n<time datetime=\"2018-08-10T23:30:00+00:00\"><span class=\"say-no-more\">2018-</span>08-10</time>\n <a href=\"/events/python-user-group/744/\">Python en la vida real</a></li>\n                                \n                                \n                                \n                                <li>\n<time datetime=\"2018-08-11T00:00:00+00:00\"><span class=\"say-no-more\">2018-</span>08-11</time>\n <a href=\"/events/python-events/718/\">PyData Delhi 2018</a></li>\n                                \n                                \n                                \n                                <li>\n<time datetime=\"2018-08-11T14:00:00+00:00\"><span class=\"say-no-more\">2018-</span>08-11</time>\n <a href=\"/events/python-user-group/749/\">Meetup Python Cali</a></li>\n                                \n                                \n                                \n                                <li>\n<time datetime=\"2018-08-15T00:00:00+00:00\"><span class=\"say-no-more\">2018-</span>08-15</time>\n <a href=\"/events/python-events/745/\">PyCon Korea 2018</a></li>\n                                \n                                \n                                \n                                <li>\n<time datetime=\"2018-08-15T23:15:00+00:00\"><span class=\"say-no-more\">2018-</span>08-15</time>\n <a href=\"/events/python-user-group/754/\">Meetup Python Popayan</a></li>\n                                \n                                \n                            </ul>\n                        </div>\n\n                    </div>\n\n                </div>\n\n                <div class=\"row\">\n\n                    <div class=\"medium-widget success-stories-widget\">\n                        \n\n\n\n                        <div class=\"shrubbery\">\n                            \n\n                            <h2 class=\"widget-title\"><span aria-hidden=\"true\" class=\"icon-success-stories\"></span>Success Stories</h2>\n                            <p class=\"give-me-more\"><a href=\"/success-stories/\" title=\"More Success Stories\">More</a></p>\n\n                            \n                            <div class=\"success-story-item\" id=\"success-story-2\">\n\n                            <blockquote>\n                                <a href=\"/success-stories/industrial-light-magic-runs-python/\">ILM runs a batch processing environment capable of modeling, rendering and compositing tens of thousands of motion picture frames per day. Thousands of machines running Linux, IRIX, Compaq Tru64, OS X, Solaris, and Windows join together to provide a production pipeline used by ~800 users daily. Speed of development is key, and Python was a faster way to code (and re-code) the programs that control this production pipeline.</a>\n                            </blockquote>\n\n                            <table cellpadding=\"0\" cellspacing=\"0\" border=\"0\" width=\"100%\" class=\"quote-from\">\n                                <tbody>\n                                    <tr>\n                                        \n                                        <td><p><a href=\"/success-stories/industrial-light-magic-runs-python/\">Industrial Light &amp; Magic Runs on Python</a> <em>by Tim Fortenberry</em></p></td>\n                                    </tr>\n                                </tbody>\n                            </table>\n                            </div>\n                            \n\n                        </div><!-- end .shrubbery -->\n\n                    </div>\n\n                    <div class=\"medium-widget applications-widget last\">\n                        <div class=\"shrubbery\">\n                            <h2 class=\"widget-title\"><span aria-hidden=\"true\" class=\"icon-python\"></span>Use Python for&hellip;</h2>\r\n<p class=\"give-me-more\"><a href=\"/about/apps\" title=\"More Applications\">More</a></p>\r\n\r\n<ul class=\"menu\">\r\n    <li><b>Web Development</b>:\r\n        <span class=\"tag-wrapper\"><a class=\"tag\" href=\"http://www.djangoproject.com/\">Django</a>, <a class=\"tag\" href=\"http://www.pylonsproject.org/\">Pyramid</a>, <a class=\"tag\" href=\"http://bottlepy.org\">Bottle</a>, <a class=\"tag\" href=\"http://tornadoweb.org\">Tornado</a>, <a href=\"http://flask.pocoo.org/\" class=\"tag\">Flask</a>, <a class=\"tag\" href=\"http://www.web2py.com/\">web2py</a></span></li>\r\n    <li><b>GUI Development</b>:\r\n        <span class=\"tag-wrapper\"><a class=\"tag\" href=\"http://wiki.python.org/moin/TkInter\">tkInter</a>, <a class=\"tag\" href=\"https://wiki.gnome.org/Projects/PyGObject\">PyGObject</a>, <a class=\"tag\" href=\"http://www.riverbankcomputing.co.uk/software/pyqt/intro\">PyQt</a>, <a class=\"tag\" href=\"https://wiki.qt.io/PySide\">PySide</a>, <a class=\"tag\" href=\"https://kivy.org/\">Kivy</a>, <a class=\"tag\" href=\"http://www.wxpython.org/\">wxPython</a></span></li>\r\n    <li><b>Scientific and Numeric</b>:\r\n        <span class=\"tag-wrapper\">\r\n<a class=\"tag\" href=\"http://www.scipy.org\">SciPy</a>, <a class=\"tag\" href=\"http://pandas.pydata.org/\">Pandas</a>, <a href=\"http://ipython.org\" class=\"tag\">IPython</a></span></li>\r\n    <li><b>Software Development</b>:\r\n        <span class=\"tag-wrapper\"><a class=\"tag\" href=\"http://buildbot.net/\">Buildbot</a>, <a class=\"tag\" href=\"http://trac.edgewall.org/\">Trac</a>, <a class=\"tag\" href=\"http://roundup.sourceforge.net/\">Roundup</a></span></li>\r\n    <li><b>System Administration</b>:\r\n        <span class=\"tag-wrapper\"><a class=\"tag\" href=\"http://www.ansible.com\">Ansible</a>, <a class=\"tag\" href=\"http://www.saltstack.com\">Salt</a>, <a class=\"tag\" href=\"https://www.openstack.org\">OpenStack</a></span></li>\r\n</ul>\r\n\n                        </div><!-- end .shrubbery -->\n                    </div>\n\n                </div>\n\n                \n                <div class=\"pep-widget\">\n\n                    <h2 class=\"widget-title\">\n                        <span class=\"prompt\">&gt;&gt;&gt;</span> <a href=\"/dev/peps/\">Python Enhancement Proposals<span class=\"say-no-more\"> (PEPs)</span></a>: The future of Python<span class=\"say-no-more\"> is discussed here.</span>\n                        <a aria-hidden=\"true\" class=\"rss-link\" href=\"/dev/peps/peps.rss\"><span class=\"icon-feed\"></span> RSS</a>\n                    </h2>\n\n\n                    \n                    \n                </div>\n\n                                <div class=\"psf-widget\">\n\n                    <div class=\"python-logo\"></div>\n                    \n                    <h2 class=\"widget-title\">\r\n    <span class=\"prompt\">&gt;&gt;&gt;</span> <a href=\"/psf/\">Python Software Foundation</a>\r\n</h2>\r\n<p>The mission of the Python Software Foundation is to promote, protect, and advance the Python programming language, and to support and facilitate the growth of a diverse and international community of Python programmers. <a class=\"readmore\" href=\"/psf/\">Learn more</a> </p>\r\n<p class=\"click-these\">\r\n    <a class=\"button\" href=\"/users/membership/\">Become a Member</a>\r\n    <a class=\"button\" href=\"/psf/donations/\">Donate to the PSF</a>\r\n</p>\n                </div>\n\n\n\n\n                </section>\n\n                \n                \n\n                \n                \n\n\n            </div><!-- end .container -->\n        </div><!-- end #content .content-wrapper -->\n\n        <!-- Footer and social media list -->\n        <footer id=\"site-map\" class=\"main-footer\" role=\"contentinfo\">\n            <div class=\"main-footer-links\">\n                <div class=\"container\">\n\n                    \n                    <a id=\"back-to-top-1\" class=\"jump-link\" href=\"#python-network\"><span aria-hidden=\"true\" class=\"icon-arrow-up\"><span>&#9650;</span></span> Back to Top</a>\n\n                    \n\n<ul class=\"sitemap navigation menu do-not-print\" role=\"tree\" id=\"container\">\n    \n    <li class=\"tier-1 element-1\">\n        <a href=\"/about/\" >About</a>\n        \n            \n\n<ul class=\"subnav menu\">\n    \n        <li class=\"tier-2 element-1\" role=\"treeitem\"><a href=\"/about/apps/\" title=\"\">Applications</a></li>\n    \n        <li class=\"tier-2 element-2\" role=\"treeitem\"><a href=\"/about/quotes/\" title=\"\">Quotes</a></li>\n    \n        <li class=\"tier-2 element-3\" role=\"treeitem\"><a href=\"/about/gettingstarted/\" title=\"\">Getting Started</a></li>\n    \n        <li class=\"tier-2 element-4\" role=\"treeitem\"><a href=\"/about/help/\" title=\"\">Help</a></li>\n    \n        <li class=\"tier-2 element-5\" role=\"treeitem\"><a href=\"http://brochure.getpython.info/\" title=\"\">Python Brochure</a></li>\n    \n</ul>\n\n        \n    </li>\n    \n    <li class=\"tier-1 element-2\">\n        <a href=\"/downloads/\" >Downloads</a>\n        \n            \n\n<ul class=\"subnav menu\">\n    \n        <li class=\"tier-2 element-1\" role=\"treeitem\"><a href=\"/downloads/\" title=\"\">All releases</a></li>\n    \n        <li class=\"tier-2 element-2\" role=\"treeitem\"><a href=\"/downloads/source/\" title=\"\">Source code</a></li>\n    \n        <li class=\"tier-2 element-3\" role=\"treeitem\"><a href=\"/downloads/windows/\" title=\"\">Windows</a></li>\n    \n        <li class=\"tier-2 element-4\" role=\"treeitem\"><a href=\"/downloads/mac-osx/\" title=\"\">Mac OS X</a></li>\n    \n        <li class=\"tier-2 element-5\" role=\"treeitem\"><a href=\"/download/other/\" title=\"\">Other Platforms</a></li>\n    \n        <li class=\"tier-2 element-6\" role=\"treeitem\"><a href=\"https://docs.python.org/3/license.html\" title=\"\">License</a></li>\n    \n        <li class=\"tier-2 element-7\" role=\"treeitem\"><a href=\"/download/alternatives\" title=\"\">Alternative Implementations</a></li>\n    \n</ul>\n\n        \n    </li>\n    \n    <li class=\"tier-1 element-3\">\n        <a href=\"/doc/\" >Documentation</a>\n        \n            \n\n<ul class=\"subnav menu\">\n    \n        <li class=\"tier-2 element-1\" role=\"treeitem\"><a href=\"/doc/\" title=\"\">Docs</a></li>\n    \n        <li class=\"tier-2 element-2\" role=\"treeitem\"><a href=\"/doc/av\" title=\"\">Audio/Visual Talks</a></li>\n    \n        <li class=\"tier-2 element-3\" role=\"treeitem\"><a href=\"https://wiki.python.org/moin/BeginnersGuide\" title=\"\">Beginner&#39;s Guide</a></li>\n    \n        <li class=\"tier-2 element-4\" role=\"treeitem\"><a href=\"https://devguide.python.org/\" title=\"\">Developer&#39;s Guide</a></li>\n    \n        <li class=\"tier-2 element-5\" role=\"treeitem\"><a href=\"https://docs.python.org/faq/\" title=\"\">FAQ</a></li>\n    \n        <li class=\"tier-2 element-6\" role=\"treeitem\"><a href=\"http://wiki.python.org/moin/Languages\" title=\"\">Non-English Docs</a></li>\n    \n        <li class=\"tier-2 element-7\" role=\"treeitem\"><a href=\"http://python.org/dev/peps/\" title=\"\">PEP Index</a></li>\n    \n        <li class=\"tier-2 element-8\" role=\"treeitem\"><a href=\"https://wiki.python.org/moin/PythonBooks\" title=\"\">Python Books</a></li>\n    \n        <li class=\"tier-2 element-9\" role=\"treeitem\"><a href=\"/doc/essays/\" title=\"\">Python Essays</a></li>\n    \n</ul>\n\n        \n    </li>\n    \n    <li class=\"tier-1 element-4\">\n        <a href=\"/community/\" >Community</a>\n        \n            \n\n<ul class=\"subnav menu\">\n    \n        <li class=\"tier-2 element-1\" role=\"treeitem\"><a href=\"/community/diversity/\" title=\"\">Diversity</a></li>\n    \n        <li class=\"tier-2 element-2\" role=\"treeitem\"><a href=\"/community/lists/\" title=\"\">Mailing Lists</a></li>\n    \n        <li class=\"tier-2 element-3\" role=\"treeitem\"><a href=\"/community/irc/\" title=\"\">IRC</a></li>\n    \n        <li class=\"tier-2 element-4\" role=\"treeitem\"><a href=\"/community/forums/\" title=\"\">Forums</a></li>\n    \n        <li class=\"tier-2 element-5\" role=\"treeitem\"><a href=\"/community/workshops/\" title=\"\">Python Conferences</a></li>\n    \n        <li class=\"tier-2 element-6\" role=\"treeitem\"><a href=\"/community/sigs/\" title=\"\">Special Interest Groups</a></li>\n    \n        <li class=\"tier-2 element-7\" role=\"treeitem\"><a href=\"https://wiki.python.org/moin/\" title=\"\">Python Wiki</a></li>\n    \n        <li class=\"tier-2 element-8\" role=\"treeitem\"><a href=\"/community/logos/\" title=\"\">Python Logo</a></li>\n    \n        <li class=\"tier-2 element-9\" role=\"treeitem\"><a href=\"/community/merchandise/\" title=\"\">Merchandise</a></li>\n    \n        <li class=\"tier-2 element-10\" role=\"treeitem\"><a href=\"/community/awards\" title=\"\">Community Awards</a></li>\n    \n        <li class=\"tier-2 element-11\" role=\"treeitem\"><a href=\"https://www.python.org/psf/codeofconduct/\" title=\"\">Code of Conduct</a></li>\n    \n</ul>\n\n        \n    </li>\n    \n    <li class=\"tier-1 element-5\">\n        <a href=\"/about/success/\" title=\"success-stories\">Success Stories</a>\n        \n            \n\n<ul class=\"subnav menu\">\n    \n        <li class=\"tier-2 element-1\" role=\"treeitem\"><a href=\"/about/success/#arts\" title=\"\">Arts</a></li>\n    \n        <li class=\"tier-2 element-2\" role=\"treeitem\"><a href=\"/about/success/#business\" title=\"\">Business</a></li>\n    \n        <li class=\"tier-2 element-3\" role=\"treeitem\"><a href=\"/about/success/#education\" title=\"\">Education</a></li>\n    \n        <li class=\"tier-2 element-4\" role=\"treeitem\"><a href=\"/about/success/#engineering\" title=\"\">Engineering</a></li>\n    \n        <li class=\"tier-2 element-5\" role=\"treeitem\"><a href=\"/about/success/#government\" title=\"\">Government</a></li>\n    \n        <li class=\"tier-2 element-6\" role=\"treeitem\"><a href=\"/about/success/#scientific\" title=\"\">Scientific</a></li>\n    \n        <li class=\"tier-2 element-7\" role=\"treeitem\"><a href=\"/about/success/#software-development\" title=\"\">Software Development</a></li>\n    \n</ul>\n\n        \n    </li>\n    \n    <li class=\"tier-1 element-6\">\n        <a href=\"/blogs/\" title=\"News from around the Python world\">News</a>\n        \n            \n\n<ul class=\"subnav menu\">\n    \n        <li class=\"tier-2 element-1\" role=\"treeitem\"><a href=\"/blogs/\" title=\"Python Insider Blog Posts\">Python News</a></li>\n    \n        <li class=\"tier-2 element-2\" role=\"treeitem\"><a href=\"http://planetpython.org/\" title=\"Planet Python\">Community News</a></li>\n    \n        <li class=\"tier-2 element-3\" role=\"treeitem\"><a href=\"http://pyfound.blogspot.com/\" title=\"PSF Blog\">PSF News</a></li>\n    \n        <li class=\"tier-2 element-4\" role=\"treeitem\"><a href=\"http://pycon.blogspot.com/\" title=\"PyCon Blog\">PyCon News</a></li>\n    \n</ul>\n\n        \n    </li>\n    \n    <li class=\"tier-1 element-7\">\n        <a href=\"/events/\" >Events</a>\n        \n            \n\n<ul class=\"subnav menu\">\n    \n        <li class=\"tier-2 element-1\" role=\"treeitem\"><a href=\"/events/python-events\" title=\"\">Python Events</a></li>\n    \n        <li class=\"tier-2 element-2\" role=\"treeitem\"><a href=\"/events/python-user-group/\" title=\"\">User Group Events</a></li>\n    \n        <li class=\"tier-2 element-3\" role=\"treeitem\"><a href=\"/events/python-events/past/\" title=\"\">Python Events Archive</a></li>\n    \n        <li class=\"tier-2 element-4\" role=\"treeitem\"><a href=\"/events/python-user-group/past/\" title=\"\">User Group Events Archive</a></li>\n    \n        <li class=\"tier-2 element-5\" role=\"treeitem\"><a href=\"https://wiki.python.org/moin/PythonEventsCalendar#Submitting_an_Event\" title=\"\">Submit an Event</a></li>\n    \n</ul>\n\n        \n    </li>\n    \n    <li class=\"tier-1 element-8\">\n        <a href=\"/dev/\" >Contributing</a>\n        \n            \n\n<ul class=\"subnav menu\">\n    \n        <li class=\"tier-2 element-1\" role=\"treeitem\"><a href=\"https://devguide.python.org/\" title=\"\">Developer&#39;s Guide</a></li>\n    \n        <li class=\"tier-2 element-2\" role=\"treeitem\"><a href=\"https://bugs.python.org/\" title=\"\">Issue Tracker</a></li>\n    \n        <li class=\"tier-2 element-3\" role=\"treeitem\"><a href=\"https://mail.python.org/mailman/listinfo/python-dev\" title=\"\">python-dev list</a></li>\n    \n        <li class=\"tier-2 element-4\" role=\"treeitem\"><a href=\"/dev/core-mentorship/\" title=\"\">Core Mentorship</a></li>\n    \n</ul>\n\n        \n    </li>\n    \n</ul>\n\n\n                    <a id=\"back-to-top-2\" class=\"jump-link\" href=\"#python-network\"><span aria-hidden=\"true\" class=\"icon-arrow-up\"><span>&#9650;</span></span> Back to Top</a>\n                    \n\n                </div><!-- end .container -->\n            </div> <!-- end .main-footer-links -->\n\n            <div class=\"site-base\">\n                <div class=\"container\">\n                    \n                    <ul class=\"footer-links navigation menu do-not-print\" role=\"tree\">\n                        <li class=\"tier-1 element-1\"><a href=\"/about/help/\">Help &amp; <span class=\"say-no-more\">General</span> Contact</a></li>\n                        <li class=\"tier-1 element-2\"><a href=\"/community/diversity/\">Diversity <span class=\"say-no-more\">Initiatives</span></a></li>\n                        <li class=\"tier-1 element-3\"><a href=\"https://github.com/python/pythondotorg/issues\">Submit Website Bug</a></li>\n                        <li class=\"tier-1 element-4\">\n                            <a href=\"https://status.python.org/\">Status <span class=\"python-status-indicator-default\" id=\"python-status-indicator\"></span></a>\n                        </li>\n                    </ul>\n\n                    <div class=\"copyright\">\n                        <p><small>\n                            <span class=\"pre\">Copyright &copy;2001-2018.</span>\n                            &nbsp;<span class=\"pre\"><a href=\"/psf-landing/\">Python Software Foundation</a></span>\n                            &nbsp;<span class=\"pre\"><a href=\"/about/legal/\">Legal Statements</a></span>\n                            &nbsp;<span class=\"pre\"><a href=\"/privacy/\">Privacy Policy</a></span>\n                            &nbsp;<span class=\"pre\"><a href=\"/psf/sponsorship/sponsors/\">Powered by Rackspace</a></span>\n                        </small></p>\n                    </div>\n\n                </div><!-- end .container -->\n            </div><!-- end .site-base -->\n\n        </footer>\n\n    </div><!-- end #touchnav-wrapper -->\n\n    \n    <script src=\"//ajax.googleapis.com/ajax/libs/jquery/1.8.2/jquery.min.js\"></script>\n    <script>window.jQuery || document.write('<script src=\"/static/js/libs/jquery-1.8.2.min.js\"><\\/script>')</script>\n\n    <script src=\"/static/js/libs/masonry.pkgd.min.js\"></script>\n\n    <script type=\"text/javascript\" src=\"/static/js/main-min.js\" charset=\"utf-8\"></script>\n    \n\n    <!--[if lte IE 7]>\n    <script type=\"text/javascript\" src=\"/static/js/plugins/IE8-min.js\" charset=\"utf-8\"></script>\n    \n    \n    <![endif]-->\n\n    <!--[if lte IE 8]>\n    <script type=\"text/javascript\" src=\"/static/js/plugins/getComputedStyle-min.js\" charset=\"utf-8\"></script>\n    \n    \n    <![endif]-->\n\n    \n\n    \n    \n\n</body>\n</html>\n\n"
     ]
    }
   ],
   "source": [
    "import urllib.request\n",
    "request = urllib.request.Request('http://python.org')\n",
    "response = urllib.request.urlopen(request)\n",
    "print(response.read().decode('utf-8'))"
   ]
  },
  {
   "cell_type": "code",
   "execution_count": 51,
   "metadata": {
    "collapsed": true
   },
   "outputs": [
    {
     "name": "stdout",
     "output_type": "stream",
     "text": [
      "{\n  \"args\": {}, \n  \"data\": \"\", \n  \"files\": {}, \n  \"form\": {\n    \"name\": \"Germey\"\n  }, \n  \"headers\": {\n    \"Accept-Encoding\": \"identity\", \n    \"Connection\": \"close\", \n    \"Content-Length\": \"11\", \n    \"Content-Type\": \"application/x-www-form-urlencoded\", \n    \"Host\": \"httpbin.org\", \n    \"User-Agent\": \"Mozilla/4.0 (compatible; MSIE 5.6; Windows NT)\"\n  }, \n  \"json\": null, \n  \"origin\": \"218.193.130.47\", \n  \"url\": \"http://httpbin.org/post\"\n}\n\n"
     ]
    }
   ],
   "source": [
    "from urllib import  request,parse\n",
    "url = 'http://httpbin.org/post'\n",
    "headers = {\n",
    "    'User-Agent': 'Mozilla/4.0 (compatible; MSIE 5.6; Windows NT)',\n",
    "    'Host': 'httpbin.org'\n",
    "}\n",
    "dict = {\n",
    "    'name':'Germey'\n",
    "}\n",
    "data = bytes(parse.urlencode(dict),encoding='utf-8')\n",
    "# req = request.Request(url=url,data=data,headers=headers,method='POST')\n",
    "req = request.Request(url=url,data= data ,method='POST')\n",
    "req.add_header('User-Agent', 'Mozilla/4.0 (compatible; MSIE 5.6; Windows NT)',)\n",
    "response = request.urlopen(req)\n",
    "print(response.read().decode(\"utf-8\"))"
   ]
  },
  {
   "cell_type": "markdown",
   "metadata": {},
   "source": [
    "#handler\n",
    "#代理"
   ]
  },
  {
   "cell_type": "code",
   "execution_count": 54,
   "metadata": {
    "collapsed": true
   },
   "outputs": [
    {
     "ename": "URLError",
     "evalue": "<urlopen error [WinError 10061] 由于目标计算机积极拒绝，无法连接。>",
     "traceback": [
      "\u001b[1;31m---------------------------------------------------------------------------\u001b[0m",
      "\u001b[1;31mConnectionRefusedError\u001b[0m                    Traceback (most recent call last)",
      "\u001b[1;32mD:\\allsoftware\\Anaconda3\\lib\\urllib\\request.py\u001b[0m in \u001b[0;36mdo_open\u001b[1;34m(self, http_class, req, **http_conn_args)\u001b[0m\n\u001b[0;32m   1317\u001b[0m                 h.request(req.get_method(), req.selector, req.data, headers,\n\u001b[1;32m-> 1318\u001b[1;33m                           encode_chunked=req.has_header('Transfer-encoding'))\n\u001b[0m\u001b[0;32m   1319\u001b[0m             \u001b[1;32mexcept\u001b[0m \u001b[0mOSError\u001b[0m \u001b[1;32mas\u001b[0m \u001b[0merr\u001b[0m\u001b[1;33m:\u001b[0m \u001b[1;31m# timeout error\u001b[0m\u001b[1;33m\u001b[0m\u001b[0m\n",
      "\u001b[1;32mD:\\allsoftware\\Anaconda3\\lib\\http\\client.py\u001b[0m in \u001b[0;36mrequest\u001b[1;34m(self, method, url, body, headers, encode_chunked)\u001b[0m\n\u001b[0;32m   1238\u001b[0m         \u001b[1;34m\"\"\"Send a complete request to the server.\"\"\"\u001b[0m\u001b[1;33m\u001b[0m\u001b[0m\n\u001b[1;32m-> 1239\u001b[1;33m         \u001b[0mself\u001b[0m\u001b[1;33m.\u001b[0m\u001b[0m_send_request\u001b[0m\u001b[1;33m(\u001b[0m\u001b[0mmethod\u001b[0m\u001b[1;33m,\u001b[0m \u001b[0murl\u001b[0m\u001b[1;33m,\u001b[0m \u001b[0mbody\u001b[0m\u001b[1;33m,\u001b[0m \u001b[0mheaders\u001b[0m\u001b[1;33m,\u001b[0m \u001b[0mencode_chunked\u001b[0m\u001b[1;33m)\u001b[0m\u001b[1;33m\u001b[0m\u001b[0m\n\u001b[0m\u001b[0;32m   1240\u001b[0m \u001b[1;33m\u001b[0m\u001b[0m\n",
      "\u001b[1;32mD:\\allsoftware\\Anaconda3\\lib\\http\\client.py\u001b[0m in \u001b[0;36m_send_request\u001b[1;34m(self, method, url, body, headers, encode_chunked)\u001b[0m\n\u001b[0;32m   1284\u001b[0m             \u001b[0mbody\u001b[0m \u001b[1;33m=\u001b[0m \u001b[0m_encode\u001b[0m\u001b[1;33m(\u001b[0m\u001b[0mbody\u001b[0m\u001b[1;33m,\u001b[0m \u001b[1;34m'body'\u001b[0m\u001b[1;33m)\u001b[0m\u001b[1;33m\u001b[0m\u001b[0m\n\u001b[1;32m-> 1285\u001b[1;33m         \u001b[0mself\u001b[0m\u001b[1;33m.\u001b[0m\u001b[0mendheaders\u001b[0m\u001b[1;33m(\u001b[0m\u001b[0mbody\u001b[0m\u001b[1;33m,\u001b[0m \u001b[0mencode_chunked\u001b[0m\u001b[1;33m=\u001b[0m\u001b[0mencode_chunked\u001b[0m\u001b[1;33m)\u001b[0m\u001b[1;33m\u001b[0m\u001b[0m\n\u001b[0m\u001b[0;32m   1286\u001b[0m \u001b[1;33m\u001b[0m\u001b[0m\n",
      "\u001b[1;32mD:\\allsoftware\\Anaconda3\\lib\\http\\client.py\u001b[0m in \u001b[0;36mendheaders\u001b[1;34m(self, message_body, encode_chunked)\u001b[0m\n\u001b[0;32m   1233\u001b[0m             \u001b[1;32mraise\u001b[0m \u001b[0mCannotSendHeader\u001b[0m\u001b[1;33m(\u001b[0m\u001b[1;33m)\u001b[0m\u001b[1;33m\u001b[0m\u001b[0m\n\u001b[1;32m-> 1234\u001b[1;33m         \u001b[0mself\u001b[0m\u001b[1;33m.\u001b[0m\u001b[0m_send_output\u001b[0m\u001b[1;33m(\u001b[0m\u001b[0mmessage_body\u001b[0m\u001b[1;33m,\u001b[0m \u001b[0mencode_chunked\u001b[0m\u001b[1;33m=\u001b[0m\u001b[0mencode_chunked\u001b[0m\u001b[1;33m)\u001b[0m\u001b[1;33m\u001b[0m\u001b[0m\n\u001b[0m\u001b[0;32m   1235\u001b[0m \u001b[1;33m\u001b[0m\u001b[0m\n",
      "\u001b[1;32mD:\\allsoftware\\Anaconda3\\lib\\http\\client.py\u001b[0m in \u001b[0;36m_send_output\u001b[1;34m(self, message_body, encode_chunked)\u001b[0m\n\u001b[0;32m   1025\u001b[0m         \u001b[1;32mdel\u001b[0m \u001b[0mself\u001b[0m\u001b[1;33m.\u001b[0m\u001b[0m_buffer\u001b[0m\u001b[1;33m[\u001b[0m\u001b[1;33m:\u001b[0m\u001b[1;33m]\u001b[0m\u001b[1;33m\u001b[0m\u001b[0m\n\u001b[1;32m-> 1026\u001b[1;33m         \u001b[0mself\u001b[0m\u001b[1;33m.\u001b[0m\u001b[0msend\u001b[0m\u001b[1;33m(\u001b[0m\u001b[0mmsg\u001b[0m\u001b[1;33m)\u001b[0m\u001b[1;33m\u001b[0m\u001b[0m\n\u001b[0m\u001b[0;32m   1027\u001b[0m \u001b[1;33m\u001b[0m\u001b[0m\n",
      "\u001b[1;32mD:\\allsoftware\\Anaconda3\\lib\\http\\client.py\u001b[0m in \u001b[0;36msend\u001b[1;34m(self, data)\u001b[0m\n\u001b[0;32m    963\u001b[0m             \u001b[1;32mif\u001b[0m \u001b[0mself\u001b[0m\u001b[1;33m.\u001b[0m\u001b[0mauto_open\u001b[0m\u001b[1;33m:\u001b[0m\u001b[1;33m\u001b[0m\u001b[0m\n\u001b[1;32m--> 964\u001b[1;33m                 \u001b[0mself\u001b[0m\u001b[1;33m.\u001b[0m\u001b[0mconnect\u001b[0m\u001b[1;33m(\u001b[0m\u001b[1;33m)\u001b[0m\u001b[1;33m\u001b[0m\u001b[0m\n\u001b[0m\u001b[0;32m    965\u001b[0m             \u001b[1;32melse\u001b[0m\u001b[1;33m:\u001b[0m\u001b[1;33m\u001b[0m\u001b[0m\n",
      "\u001b[1;32mD:\\allsoftware\\Anaconda3\\lib\\http\\client.py\u001b[0m in \u001b[0;36mconnect\u001b[1;34m(self)\u001b[0m\n\u001b[0;32m    935\u001b[0m         self.sock = self._create_connection(\n\u001b[1;32m--> 936\u001b[1;33m             (self.host,self.port), self.timeout, self.source_address)\n\u001b[0m\u001b[0;32m    937\u001b[0m         \u001b[0mself\u001b[0m\u001b[1;33m.\u001b[0m\u001b[0msock\u001b[0m\u001b[1;33m.\u001b[0m\u001b[0msetsockopt\u001b[0m\u001b[1;33m(\u001b[0m\u001b[0msocket\u001b[0m\u001b[1;33m.\u001b[0m\u001b[0mIPPROTO_TCP\u001b[0m\u001b[1;33m,\u001b[0m \u001b[0msocket\u001b[0m\u001b[1;33m.\u001b[0m\u001b[0mTCP_NODELAY\u001b[0m\u001b[1;33m,\u001b[0m \u001b[1;36m1\u001b[0m\u001b[1;33m)\u001b[0m\u001b[1;33m\u001b[0m\u001b[0m\n",
      "\u001b[1;32mD:\\allsoftware\\Anaconda3\\lib\\socket.py\u001b[0m in \u001b[0;36mcreate_connection\u001b[1;34m(address, timeout, source_address)\u001b[0m\n\u001b[0;32m    723\u001b[0m     \u001b[1;32mif\u001b[0m \u001b[0merr\u001b[0m \u001b[1;32mis\u001b[0m \u001b[1;32mnot\u001b[0m \u001b[1;32mNone\u001b[0m\u001b[1;33m:\u001b[0m\u001b[1;33m\u001b[0m\u001b[0m\n\u001b[1;32m--> 724\u001b[1;33m         \u001b[1;32mraise\u001b[0m \u001b[0merr\u001b[0m\u001b[1;33m\u001b[0m\u001b[0m\n\u001b[0m\u001b[0;32m    725\u001b[0m     \u001b[1;32melse\u001b[0m\u001b[1;33m:\u001b[0m\u001b[1;33m\u001b[0m\u001b[0m\n",
      "\u001b[1;32mD:\\allsoftware\\Anaconda3\\lib\\socket.py\u001b[0m in \u001b[0;36mcreate_connection\u001b[1;34m(address, timeout, source_address)\u001b[0m\n\u001b[0;32m    712\u001b[0m                 \u001b[0msock\u001b[0m\u001b[1;33m.\u001b[0m\u001b[0mbind\u001b[0m\u001b[1;33m(\u001b[0m\u001b[0msource_address\u001b[0m\u001b[1;33m)\u001b[0m\u001b[1;33m\u001b[0m\u001b[0m\n\u001b[1;32m--> 713\u001b[1;33m             \u001b[0msock\u001b[0m\u001b[1;33m.\u001b[0m\u001b[0mconnect\u001b[0m\u001b[1;33m(\u001b[0m\u001b[0msa\u001b[0m\u001b[1;33m)\u001b[0m\u001b[1;33m\u001b[0m\u001b[0m\n\u001b[0m\u001b[0;32m    714\u001b[0m             \u001b[1;31m# Break explicitly a reference cycle\u001b[0m\u001b[1;33m\u001b[0m\u001b[1;33m\u001b[0m\u001b[0m\n",
      "\u001b[1;31mConnectionRefusedError\u001b[0m: [WinError 10061] 由于目标计算机积极拒绝，无法连接。",
      "\nDuring handling of the above exception, another exception occurred:\n",
      "\u001b[1;31mURLError\u001b[0m                                  Traceback (most recent call last)",
      "\u001b[1;32m<ipython-input-54-1922f650f353>\u001b[0m in \u001b[0;36m<module>\u001b[1;34m()\u001b[0m\n\u001b[0;32m      6\u001b[0m })\n\u001b[0;32m      7\u001b[0m \u001b[0mopener\u001b[0m \u001b[1;33m=\u001b[0m \u001b[0murllib\u001b[0m\u001b[1;33m.\u001b[0m\u001b[0mrequest\u001b[0m\u001b[1;33m.\u001b[0m\u001b[0mbuild_opener\u001b[0m\u001b[1;33m(\u001b[0m\u001b[0mproxy_handler\u001b[0m\u001b[1;33m)\u001b[0m\u001b[1;33m\u001b[0m\u001b[0m\n\u001b[1;32m----> 8\u001b[1;33m \u001b[0mresponse\u001b[0m \u001b[1;33m=\u001b[0m \u001b[0mopener\u001b[0m\u001b[1;33m.\u001b[0m\u001b[0mopen\u001b[0m\u001b[1;33m(\u001b[0m\u001b[1;34m'http://httpbin.org/get'\u001b[0m\u001b[1;33m)\u001b[0m\u001b[1;33m\u001b[0m\u001b[0m\n\u001b[0m\u001b[0;32m      9\u001b[0m \u001b[0mprint\u001b[0m\u001b[1;33m(\u001b[0m\u001b[0mresponse\u001b[0m\u001b[1;33m.\u001b[0m\u001b[0mread\u001b[0m\u001b[1;33m(\u001b[0m\u001b[1;33m)\u001b[0m\u001b[1;33m)\u001b[0m\u001b[1;33m\u001b[0m\u001b[0m\n",
      "\u001b[1;32mD:\\allsoftware\\Anaconda3\\lib\\urllib\\request.py\u001b[0m in \u001b[0;36mopen\u001b[1;34m(self, fullurl, data, timeout)\u001b[0m\n\u001b[0;32m    524\u001b[0m             \u001b[0mreq\u001b[0m \u001b[1;33m=\u001b[0m \u001b[0mmeth\u001b[0m\u001b[1;33m(\u001b[0m\u001b[0mreq\u001b[0m\u001b[1;33m)\u001b[0m\u001b[1;33m\u001b[0m\u001b[0m\n\u001b[0;32m    525\u001b[0m \u001b[1;33m\u001b[0m\u001b[0m\n\u001b[1;32m--> 526\u001b[1;33m         \u001b[0mresponse\u001b[0m \u001b[1;33m=\u001b[0m \u001b[0mself\u001b[0m\u001b[1;33m.\u001b[0m\u001b[0m_open\u001b[0m\u001b[1;33m(\u001b[0m\u001b[0mreq\u001b[0m\u001b[1;33m,\u001b[0m \u001b[0mdata\u001b[0m\u001b[1;33m)\u001b[0m\u001b[1;33m\u001b[0m\u001b[0m\n\u001b[0m\u001b[0;32m    527\u001b[0m \u001b[1;33m\u001b[0m\u001b[0m\n\u001b[0;32m    528\u001b[0m         \u001b[1;31m# post-process response\u001b[0m\u001b[1;33m\u001b[0m\u001b[1;33m\u001b[0m\u001b[0m\n",
      "\u001b[1;32mD:\\allsoftware\\Anaconda3\\lib\\urllib\\request.py\u001b[0m in \u001b[0;36m_open\u001b[1;34m(self, req, data)\u001b[0m\n\u001b[0;32m    542\u001b[0m         \u001b[0mprotocol\u001b[0m \u001b[1;33m=\u001b[0m \u001b[0mreq\u001b[0m\u001b[1;33m.\u001b[0m\u001b[0mtype\u001b[0m\u001b[1;33m\u001b[0m\u001b[0m\n\u001b[0;32m    543\u001b[0m         result = self._call_chain(self.handle_open, protocol, protocol +\n\u001b[1;32m--> 544\u001b[1;33m                                   '_open', req)\n\u001b[0m\u001b[0;32m    545\u001b[0m         \u001b[1;32mif\u001b[0m \u001b[0mresult\u001b[0m\u001b[1;33m:\u001b[0m\u001b[1;33m\u001b[0m\u001b[0m\n\u001b[0;32m    546\u001b[0m             \u001b[1;32mreturn\u001b[0m \u001b[0mresult\u001b[0m\u001b[1;33m\u001b[0m\u001b[0m\n",
      "\u001b[1;32mD:\\allsoftware\\Anaconda3\\lib\\urllib\\request.py\u001b[0m in \u001b[0;36m_call_chain\u001b[1;34m(self, chain, kind, meth_name, *args)\u001b[0m\n\u001b[0;32m    502\u001b[0m         \u001b[1;32mfor\u001b[0m \u001b[0mhandler\u001b[0m \u001b[1;32min\u001b[0m \u001b[0mhandlers\u001b[0m\u001b[1;33m:\u001b[0m\u001b[1;33m\u001b[0m\u001b[0m\n\u001b[0;32m    503\u001b[0m             \u001b[0mfunc\u001b[0m \u001b[1;33m=\u001b[0m \u001b[0mgetattr\u001b[0m\u001b[1;33m(\u001b[0m\u001b[0mhandler\u001b[0m\u001b[1;33m,\u001b[0m \u001b[0mmeth_name\u001b[0m\u001b[1;33m)\u001b[0m\u001b[1;33m\u001b[0m\u001b[0m\n\u001b[1;32m--> 504\u001b[1;33m             \u001b[0mresult\u001b[0m \u001b[1;33m=\u001b[0m \u001b[0mfunc\u001b[0m\u001b[1;33m(\u001b[0m\u001b[1;33m*\u001b[0m\u001b[0margs\u001b[0m\u001b[1;33m)\u001b[0m\u001b[1;33m\u001b[0m\u001b[0m\n\u001b[0m\u001b[0;32m    505\u001b[0m             \u001b[1;32mif\u001b[0m \u001b[0mresult\u001b[0m \u001b[1;32mis\u001b[0m \u001b[1;32mnot\u001b[0m \u001b[1;32mNone\u001b[0m\u001b[1;33m:\u001b[0m\u001b[1;33m\u001b[0m\u001b[0m\n\u001b[0;32m    506\u001b[0m                 \u001b[1;32mreturn\u001b[0m \u001b[0mresult\u001b[0m\u001b[1;33m\u001b[0m\u001b[0m\n",
      "\u001b[1;32mD:\\allsoftware\\Anaconda3\\lib\\urllib\\request.py\u001b[0m in \u001b[0;36mhttp_open\u001b[1;34m(self, req)\u001b[0m\n\u001b[0;32m   1344\u001b[0m \u001b[1;33m\u001b[0m\u001b[0m\n\u001b[0;32m   1345\u001b[0m     \u001b[1;32mdef\u001b[0m \u001b[0mhttp_open\u001b[0m\u001b[1;33m(\u001b[0m\u001b[0mself\u001b[0m\u001b[1;33m,\u001b[0m \u001b[0mreq\u001b[0m\u001b[1;33m)\u001b[0m\u001b[1;33m:\u001b[0m\u001b[1;33m\u001b[0m\u001b[0m\n\u001b[1;32m-> 1346\u001b[1;33m         \u001b[1;32mreturn\u001b[0m \u001b[0mself\u001b[0m\u001b[1;33m.\u001b[0m\u001b[0mdo_open\u001b[0m\u001b[1;33m(\u001b[0m\u001b[0mhttp\u001b[0m\u001b[1;33m.\u001b[0m\u001b[0mclient\u001b[0m\u001b[1;33m.\u001b[0m\u001b[0mHTTPConnection\u001b[0m\u001b[1;33m,\u001b[0m \u001b[0mreq\u001b[0m\u001b[1;33m)\u001b[0m\u001b[1;33m\u001b[0m\u001b[0m\n\u001b[0m\u001b[0;32m   1347\u001b[0m \u001b[1;33m\u001b[0m\u001b[0m\n\u001b[0;32m   1348\u001b[0m     \u001b[0mhttp_request\u001b[0m \u001b[1;33m=\u001b[0m \u001b[0mAbstractHTTPHandler\u001b[0m\u001b[1;33m.\u001b[0m\u001b[0mdo_request_\u001b[0m\u001b[1;33m\u001b[0m\u001b[0m\n",
      "\u001b[1;32mD:\\allsoftware\\Anaconda3\\lib\\urllib\\request.py\u001b[0m in \u001b[0;36mdo_open\u001b[1;34m(self, http_class, req, **http_conn_args)\u001b[0m\n\u001b[0;32m   1318\u001b[0m                           encode_chunked=req.has_header('Transfer-encoding'))\n\u001b[0;32m   1319\u001b[0m             \u001b[1;32mexcept\u001b[0m \u001b[0mOSError\u001b[0m \u001b[1;32mas\u001b[0m \u001b[0merr\u001b[0m\u001b[1;33m:\u001b[0m \u001b[1;31m# timeout error\u001b[0m\u001b[1;33m\u001b[0m\u001b[0m\n\u001b[1;32m-> 1320\u001b[1;33m                 \u001b[1;32mraise\u001b[0m \u001b[0mURLError\u001b[0m\u001b[1;33m(\u001b[0m\u001b[0merr\u001b[0m\u001b[1;33m)\u001b[0m\u001b[1;33m\u001b[0m\u001b[0m\n\u001b[0m\u001b[0;32m   1321\u001b[0m             \u001b[0mr\u001b[0m \u001b[1;33m=\u001b[0m \u001b[0mh\u001b[0m\u001b[1;33m.\u001b[0m\u001b[0mgetresponse\u001b[0m\u001b[1;33m(\u001b[0m\u001b[1;33m)\u001b[0m\u001b[1;33m\u001b[0m\u001b[0m\n\u001b[0;32m   1322\u001b[0m         \u001b[1;32mexcept\u001b[0m\u001b[1;33m:\u001b[0m\u001b[1;33m\u001b[0m\u001b[0m\n",
      "\u001b[1;31mURLError\u001b[0m: <urlopen error [WinError 10061] 由于目标计算机积极拒绝，无法连接。>"
     ],
     "output_type": "error"
    }
   ],
   "source": [
    "import urllib.request\n",
    "\n",
    "proxy_handler = urllib.request.ProxyHandler({\n",
    "    'http': 'http://127.0.0.1:9743',\n",
    "    'https': 'https://127.0.0.1:9743'\n",
    "})\n",
    "opener = urllib.request.build_opener(proxy_handler)\n",
    "response = opener.open('http://httpbin.org/get')\n",
    "print(response.read())"
   ]
  },
  {
   "cell_type": "code",
   "execution_count": 58,
   "metadata": {},
   "outputs": [
    {
     "name": "stdout",
     "output_type": "stream",
     "text": [
      "BAIDUID=90FD886C9C6BBE755132E8F3728012B8:FG=1\nBIDUPSID=90FD886C9C6BBE755132E8F3728012B8\nH_PS_PSSID=1452_21107_26922_20929\nPSTM=1533886555\nBDSVRTM=0\nBD_HOME=0\ndelPer=0\n"
     ]
    }
   ],
   "source": [
    "import http.cookiejar,urllib.request\n",
    "cookie = http.cookiejar.CookieJar()\n",
    "handler = urllib.request.HTTPCookieProcessor(cookie)\n",
    "opener = urllib.request.build_opener(handler)\n",
    "response = opener.open('http://www.baidu.com')\n",
    "for item in cookie:\n",
    "    print(item.name + \"=\" + item.value)"
   ]
  },
  {
   "cell_type": "code",
   "execution_count": 61,
   "metadata": {},
   "outputs": [],
   "source": [
    "import http.cookiejar,urllib.request\n",
    "filename = 'data/cookies.txt'\n",
    "cookie = http.cookiejar.MozillaCookieJar(filename)\n",
    "handler = urllib.request.HTTPCookieProcessor(cookie)\n",
    "opener = urllib.request.build_opener(handler)\n",
    "response = opener.open('http://www.baidu.com')\n",
    "cookie.save(ignore_discard=True,ignore_expires=True)"
   ]
  },
  {
   "cell_type": "code",
   "execution_count": 62,
   "metadata": {},
   "outputs": [],
   "source": [
    "import http.cookiejar,urllib.request\n",
    "filename = 'data/cookies2.txt'\n",
    "# cookie = http.cookiejar.MozillaCookieJar(filename)\n",
    "cookie = http.cookiejar.LWPCookieJar(filename)\n",
    "handler = urllib.request.HTTPCookieProcessor(cookie)\n",
    "opener = urllib.request.build_opener(handler)\n",
    "response = opener.open('http://www.baidu.com')\n",
    "cookie.save(ignore_discard=True,ignore_expires=True)"
   ]
  },
  {
   "cell_type": "code",
   "execution_count": 67,
   "metadata": {},
   "outputs": [],
   "source": [
    "import http.cookiejar, urllib.request\n",
    "cookie = http.cookiejar.LWPCookieJar()\n",
    "cookie.load('cookies2.txt',ignore_expires=True,ignore_discard=True)\n",
    "handler = urllib.request.HTTPCookieProcessor(cookie)\n",
    "opener = urllib.request.build_opener(handler)\n",
    "response = opener.open('http://www.baidu.com')\n",
    "print(response.read().decode('utf-8'))"
   ]
  },
  {
   "cell_type": "code",
   "execution_count": 69,
   "metadata": {},
   "outputs": [],
   "source": [
    "import http.cookiejar, urllib.request\n",
    "cookie = http.cookiejar.LWPCookieJar()\n",
    "cookie.load('cookies2.txt', ignore_discard=True, ignore_expires=True)\n",
    "handler = urllib.request.HTTPCookieProcessor(cookie)\n",
    "opener = urllib.request.build_opener(handler)\n",
    "response = opener.open('http://www.baidu.com')\n",
    "print(response.read().decode('utf-8'))"
   ]
  },
  {
   "cell_type": "markdown",
   "metadata": {},
   "source": [
    "#异常处理"
   ]
  },
  {
   "cell_type": "code",
   "execution_count": 70,
   "metadata": {},
   "outputs": [
    {
     "name": "stdout",
     "output_type": "stream",
     "text": [
      "Not Found\n"
     ]
    }
   ],
   "source": [
    "from urllib import request, error\n",
    "try:\n",
    "    response = request.urlopen('http://cuiqingcai.com/index.htm')\n",
    "except error.URLError as e:\n",
    "    print(e.reason)"
   ]
  },
  {
   "cell_type": "code",
   "execution_count": 75,
   "metadata": {
    "collapsed": true
   },
   "outputs": [
    {
     "name": "stdout",
     "output_type": "stream",
     "text": [
      "Not Found\n404\nServer: nginx/1.10.3 (Ubuntu)\nDate: Fri, 10 Aug 2018 08:16:24 GMT\nContent-Type: text/html; charset=UTF-8\nTransfer-Encoding: chunked\nConnection: close\nVary: Cookie\nExpires: Wed, 11 Jan 1984 05:00:00 GMT\nCache-Control: no-cache, must-revalidate, max-age=0\nLink: <https://cuiqingcai.com/wp-json/>; rel=\"https://api.w.org/\"\n\n\n"
     ]
    }
   ],
   "source": [
    "from urllib import request, error\n",
    "try:\n",
    "    response = request.urlopen('http://cuiqingcai.com/index.htm')\n",
    "except error.HTTPError as e:\n",
    "    print(e.reason,e.code,e.headers,sep='\\n')"
   ]
  },
  {
   "cell_type": "code",
   "execution_count": 76,
   "metadata": {
    "collapsed": true
   },
   "outputs": [
    {
     "name": "stdout",
     "output_type": "stream",
     "text": [
      "Not Found\n404\nServer: nginx/1.10.3 (Ubuntu)\nDate: Fri, 10 Aug 2018 08:17:10 GMT\nContent-Type: text/html; charset=UTF-8\nTransfer-Encoding: chunked\nConnection: close\nVary: Cookie\nExpires: Wed, 11 Jan 1984 05:00:00 GMT\nCache-Control: no-cache, must-revalidate, max-age=0\nLink: <https://cuiqingcai.com/wp-json/>; rel=\"https://api.w.org/\"\n\n\n"
     ]
    }
   ],
   "source": [
    "from urllib import request, error\n",
    "\n",
    "try:\n",
    "    response = request.urlopen('http://cuiqingcai.com/index.htm')\n",
    "except error.HTTPError as e:\n",
    "    print(e.reason, e.code, e.headers, sep='\\n')\n",
    "except error.URLError as e:\n",
    "    print(e.reason)\n",
    "else:\n",
    "    print('Request Successfully')"
   ]
  },
  {
   "cell_type": "code",
   "execution_count": 77,
   "metadata": {},
   "outputs": [
    {
     "name": "stdout",
     "output_type": "stream",
     "text": [
      "<class 'socket.timeout'>\nTIME OUT\n"
     ]
    }
   ],
   "source": [
    "import socket\n",
    "import urllib.request\n",
    "import urllib.error\n",
    "\n",
    "try:\n",
    "    response = urllib.request.urlopen('https://www.baidu.com', timeout=0.01)\n",
    "except urllib.error.URLError as e:\n",
    "    print(type(e.reason))\n",
    "    if isinstance(e.reason, socket.timeout):\n",
    "        print('TIME OUT')"
   ]
  },
  {
   "cell_type": "markdown",
   "metadata": {},
   "source": [
    "#解析链接"
   ]
  },
  {
   "cell_type": "code",
   "execution_count": 78,
   "metadata": {},
   "outputs": [
    {
     "name": "stdout",
     "output_type": "stream",
     "text": [
      "<class 'urllib.parse.ParseResult'> ParseResult(scheme='http', netloc='www.baidu.com', path='/index.html', params='user', query='id=5', fragment='comment')\n"
     ]
    }
   ],
   "source": [
    "from urllib.parse import urlparse\n",
    "\n",
    "result = urlparse('http://www.baidu.com/index.html;user?id=5#comment')\n",
    "print(type(result), result)"
   ]
  },
  {
   "cell_type": "code",
   "execution_count": 79,
   "metadata": {},
   "outputs": [
    {
     "name": "stdout",
     "output_type": "stream",
     "text": [
      "ParseResult(scheme='https', netloc='', path='www.baidu.com/index.html', params='user', query='id=5', fragment='comment')\n"
     ]
    }
   ],
   "source": [
    "from urllib.parse import urlparse\n",
    "\n",
    "result = urlparse('www.baidu.com/index.html;user?id=5#comment', scheme='https')\n",
    "print(result)"
   ]
  },
  {
   "cell_type": "code",
   "execution_count": 80,
   "metadata": {},
   "outputs": [
    {
     "name": "stdout",
     "output_type": "stream",
     "text": [
      "ParseResult(scheme='http', netloc='www.baidu.com', path='/index.html', params='user', query='id=5', fragment='comment')\n"
     ]
    }
   ],
   "source": [
    "from urllib.parse import urlparse\n",
    "\n",
    "result = urlparse('http://www.baidu.com/index.html;user?id=5#comment', scheme='https')\n",
    "print(result)"
   ]
  },
  {
   "cell_type": "code",
   "execution_count": 82,
   "metadata": {},
   "outputs": [
    {
     "data": {
      "text/plain": [
       "'www.baidu.com'"
      ]
     },
     "execution_count": 82,
     "metadata": {},
     "output_type": "execute_result"
    }
   ],
   "source": [
    "result[1]"
   ]
  },
  {
   "cell_type": "code",
   "execution_count": 83,
   "metadata": {},
   "outputs": [
    {
     "name": "stdout",
     "output_type": "stream",
     "text": [
      "ParseResult(scheme='http', netloc='www.baidu.com', path='/index.html', params='user', query='id=5#comment', fragment='')\n"
     ]
    }
   ],
   "source": [
    "from urllib.parse import urlparse\n",
    "\n",
    "result = urlparse('http://www.baidu.com/index.html;user?id=5#comment', allow_fragments=False)\n",
    "print(result)"
   ]
  },
  {
   "cell_type": "code",
   "execution_count": 84,
   "metadata": {},
   "outputs": [
    {
     "name": "stdout",
     "output_type": "stream",
     "text": [
      "ParseResult(scheme='http', netloc='www.baidu.com', path='/index.html#comment', params='', query='', fragment='')\n"
     ]
    }
   ],
   "source": [
    "from urllib.parse import urlparse\n",
    "\n",
    "result = urlparse('http://www.baidu.com/index.html#comment', allow_fragments=False)\n",
    "print(result)"
   ]
  },
  {
   "cell_type": "code",
   "execution_count": 85,
   "metadata": {},
   "outputs": [
    {
     "name": "stdout",
     "output_type": "stream",
     "text": [
      "http://www.baidu.com/index.html;user?a=6#comment\n"
     ]
    }
   ],
   "source": [
    "from urllib.parse import urlunparse\n",
    "\n",
    "data = ['http', 'www.baidu.com', 'index.html', 'user', 'a=6', 'comment']\n",
    "print(urlunparse(data))"
   ]
  },
  {
   "cell_type": "code",
   "execution_count": 86,
   "metadata": {},
   "outputs": [
    {
     "name": "stdout",
     "output_type": "stream",
     "text": [
      "SplitResult(scheme='http', netloc='www.baidu.com', path='/index.html;user', query='id=5', fragment='comment')\n"
     ]
    }
   ],
   "source": [
    "from urllib.parse import urlsplit\n",
    "\n",
    "result = urlsplit('http://www.baidu.com/index.html;user?id=5#comment')\n",
    "print(result)"
   ]
  },
  {
   "cell_type": "code",
   "execution_count": 87,
   "metadata": {},
   "outputs": [
    {
     "name": "stdout",
     "output_type": "stream",
     "text": [
      "http://www.baidu.com/index.html;user?a=6#comment\n"
     ]
    }
   ],
   "source": [
    "from urllib.parse import urlunsplit\n",
    "\n",
    "data = ['http', 'www.baidu.com', 'index.html;user', 'a=6', 'comment']\n",
    "print(urlunsplit(data))"
   ]
  },
  {
   "cell_type": "code",
   "execution_count": 88,
   "metadata": {},
   "outputs": [
    {
     "name": "stdout",
     "output_type": "stream",
     "text": [
      "http://www.baidu.com/FAQ.html\nhttps://cuiqingcai.com/FAQ.html\nhttps://cuiqingcai.com/FAQ.html\nhttps://cuiqingcai.com/FAQ.html?question=2\nhttps://cuiqingcai.com/index.php\nhttp://www.baidu.com?category=2#comment\nwww.baidu.com?category=2#comment\nwww.baidu.com?category=2\n"
     ]
    }
   ],
   "source": [
    "from urllib.parse import urljoin\n",
    "\n",
    "print(urljoin('http://www.baidu.com', 'FAQ.html'))\n",
    "print(urljoin('http://www.baidu.com', 'https://cuiqingcai.com/FAQ.html'))\n",
    "print(urljoin('http://www.baidu.com/about.html', 'https://cuiqingcai.com/FAQ.html'))\n",
    "print(urljoin('http://www.baidu.com/about.html', 'https://cuiqingcai.com/FAQ.html?question=2'))\n",
    "print(urljoin('http://www.baidu.com?wd=abc', 'https://cuiqingcai.com/index.php'))\n",
    "print(urljoin('http://www.baidu.com', '?category=2#comment'))\n",
    "print(urljoin('www.baidu.com', '?category=2#comment'))\n",
    "print(urljoin('www.baidu.com#comment', '?category=2'))"
   ]
  },
  {
   "cell_type": "code",
   "execution_count": 89,
   "metadata": {},
   "outputs": [
    {
     "name": "stdout",
     "output_type": "stream",
     "text": [
      "http://www.baidu.com?name=germey&age=22\n"
     ]
    }
   ],
   "source": [
    "from urllib.parse import urlencode\n",
    "\n",
    "params = {\n",
    "    'name': 'germey',\n",
    "    'age': 22\n",
    "}\n",
    "base_url = 'http://www.baidu.com?'\n",
    "url = base_url + urlencode(params)\n",
    "print(url)"
   ]
  },
  {
   "cell_type": "markdown",
   "metadata": {},
   "source": [
    "#RobotParser"
   ]
  },
  {
   "cell_type": "code",
   "execution_count": 91,
   "metadata": {},
   "outputs": [
    {
     "name": "stdout",
     "output_type": "stream",
     "text": [
      "False\n"
     ]
    }
   ],
   "source": [
    "from  urllib.robotparser import  RobotFileParser\n",
    "rp = RobotFileParser()\n",
    "rp.set_url('http://www.jianshu.com/robots.txt')\n",
    "rp.read()\n",
    "print(rp.can_fetch('*','http\"//www.jianshu.com/p/b67554025d7d'))\n"
   ]
  },
  {
   "cell_type": "code",
   "execution_count": 94,
   "metadata": {},
   "outputs": [
    {
     "ename": "HTTPError",
     "evalue": "HTTP Error 403: Forbidden",
     "traceback": [
      "\u001b[1;31m---------------------------------------------------------------------------\u001b[0m",
      "\u001b[1;31mHTTPError\u001b[0m                                 Traceback (most recent call last)",
      "\u001b[1;32m<ipython-input-94-1638baaf03d9>\u001b[0m in \u001b[0;36m<module>\u001b[1;34m()\u001b[0m\n\u001b[0;32m      2\u001b[0m \u001b[1;32mfrom\u001b[0m \u001b[0murllib\u001b[0m\u001b[1;33m.\u001b[0m\u001b[0mrequest\u001b[0m \u001b[1;32mimport\u001b[0m \u001b[0murlopen\u001b[0m\u001b[1;33m\u001b[0m\u001b[0m\n\u001b[0;32m      3\u001b[0m \u001b[0mrp\u001b[0m \u001b[1;33m=\u001b[0m \u001b[0mRobotFileParser\u001b[0m\u001b[1;33m(\u001b[0m\u001b[1;33m)\u001b[0m\u001b[1;33m\u001b[0m\u001b[0m\n\u001b[1;32m----> 4\u001b[1;33m \u001b[0mrp\u001b[0m\u001b[1;33m.\u001b[0m\u001b[0mparse\u001b[0m\u001b[1;33m(\u001b[0m\u001b[0murlopen\u001b[0m\u001b[1;33m(\u001b[0m\u001b[1;34m'http://www.jianshu.com/robots.txt'\u001b[0m\u001b[1;33m)\u001b[0m\u001b[1;33m.\u001b[0m\u001b[0mread\u001b[0m\u001b[1;33m(\u001b[0m\u001b[1;33m)\u001b[0m\u001b[1;33m.\u001b[0m\u001b[0mdecode\u001b[0m\u001b[1;33m(\u001b[0m\u001b[1;34m'utf-8'\u001b[0m\u001b[1;33m)\u001b[0m\u001b[1;33m.\u001b[0m\u001b[0msplit\u001b[0m\u001b[1;33m(\u001b[0m\u001b[1;34m'\\n'\u001b[0m\u001b[1;33m)\u001b[0m\u001b[1;33m)\u001b[0m\u001b[1;33m\u001b[0m\u001b[0m\n\u001b[0m",
      "\u001b[1;32mD:\\allsoftware\\Anaconda3\\lib\\urllib\\request.py\u001b[0m in \u001b[0;36murlopen\u001b[1;34m(url, data, timeout, cafile, capath, cadefault, context)\u001b[0m\n\u001b[0;32m    221\u001b[0m     \u001b[1;32melse\u001b[0m\u001b[1;33m:\u001b[0m\u001b[1;33m\u001b[0m\u001b[0m\n\u001b[0;32m    222\u001b[0m         \u001b[0mopener\u001b[0m \u001b[1;33m=\u001b[0m \u001b[0m_opener\u001b[0m\u001b[1;33m\u001b[0m\u001b[0m\n\u001b[1;32m--> 223\u001b[1;33m     \u001b[1;32mreturn\u001b[0m \u001b[0mopener\u001b[0m\u001b[1;33m.\u001b[0m\u001b[0mopen\u001b[0m\u001b[1;33m(\u001b[0m\u001b[0murl\u001b[0m\u001b[1;33m,\u001b[0m \u001b[0mdata\u001b[0m\u001b[1;33m,\u001b[0m \u001b[0mtimeout\u001b[0m\u001b[1;33m)\u001b[0m\u001b[1;33m\u001b[0m\u001b[0m\n\u001b[0m\u001b[0;32m    224\u001b[0m \u001b[1;33m\u001b[0m\u001b[0m\n\u001b[0;32m    225\u001b[0m \u001b[1;32mdef\u001b[0m \u001b[0minstall_opener\u001b[0m\u001b[1;33m(\u001b[0m\u001b[0mopener\u001b[0m\u001b[1;33m)\u001b[0m\u001b[1;33m:\u001b[0m\u001b[1;33m\u001b[0m\u001b[0m\n",
      "\u001b[1;32mD:\\allsoftware\\Anaconda3\\lib\\urllib\\request.py\u001b[0m in \u001b[0;36mopen\u001b[1;34m(self, fullurl, data, timeout)\u001b[0m\n\u001b[0;32m    530\u001b[0m         \u001b[1;32mfor\u001b[0m \u001b[0mprocessor\u001b[0m \u001b[1;32min\u001b[0m \u001b[0mself\u001b[0m\u001b[1;33m.\u001b[0m\u001b[0mprocess_response\u001b[0m\u001b[1;33m.\u001b[0m\u001b[0mget\u001b[0m\u001b[1;33m(\u001b[0m\u001b[0mprotocol\u001b[0m\u001b[1;33m,\u001b[0m \u001b[1;33m[\u001b[0m\u001b[1;33m]\u001b[0m\u001b[1;33m)\u001b[0m\u001b[1;33m:\u001b[0m\u001b[1;33m\u001b[0m\u001b[0m\n\u001b[0;32m    531\u001b[0m             \u001b[0mmeth\u001b[0m \u001b[1;33m=\u001b[0m \u001b[0mgetattr\u001b[0m\u001b[1;33m(\u001b[0m\u001b[0mprocessor\u001b[0m\u001b[1;33m,\u001b[0m \u001b[0mmeth_name\u001b[0m\u001b[1;33m)\u001b[0m\u001b[1;33m\u001b[0m\u001b[0m\n\u001b[1;32m--> 532\u001b[1;33m             \u001b[0mresponse\u001b[0m \u001b[1;33m=\u001b[0m \u001b[0mmeth\u001b[0m\u001b[1;33m(\u001b[0m\u001b[0mreq\u001b[0m\u001b[1;33m,\u001b[0m \u001b[0mresponse\u001b[0m\u001b[1;33m)\u001b[0m\u001b[1;33m\u001b[0m\u001b[0m\n\u001b[0m\u001b[0;32m    533\u001b[0m \u001b[1;33m\u001b[0m\u001b[0m\n\u001b[0;32m    534\u001b[0m         \u001b[1;32mreturn\u001b[0m \u001b[0mresponse\u001b[0m\u001b[1;33m\u001b[0m\u001b[0m\n",
      "\u001b[1;32mD:\\allsoftware\\Anaconda3\\lib\\urllib\\request.py\u001b[0m in \u001b[0;36mhttp_response\u001b[1;34m(self, request, response)\u001b[0m\n\u001b[0;32m    640\u001b[0m         \u001b[1;32mif\u001b[0m \u001b[1;32mnot\u001b[0m \u001b[1;33m(\u001b[0m\u001b[1;36m200\u001b[0m \u001b[1;33m<=\u001b[0m \u001b[0mcode\u001b[0m \u001b[1;33m<\u001b[0m \u001b[1;36m300\u001b[0m\u001b[1;33m)\u001b[0m\u001b[1;33m:\u001b[0m\u001b[1;33m\u001b[0m\u001b[0m\n\u001b[0;32m    641\u001b[0m             response = self.parent.error(\n\u001b[1;32m--> 642\u001b[1;33m                 'http', request, response, code, msg, hdrs)\n\u001b[0m\u001b[0;32m    643\u001b[0m \u001b[1;33m\u001b[0m\u001b[0m\n\u001b[0;32m    644\u001b[0m         \u001b[1;32mreturn\u001b[0m \u001b[0mresponse\u001b[0m\u001b[1;33m\u001b[0m\u001b[0m\n",
      "\u001b[1;32mD:\\allsoftware\\Anaconda3\\lib\\urllib\\request.py\u001b[0m in \u001b[0;36merror\u001b[1;34m(self, proto, *args)\u001b[0m\n\u001b[0;32m    562\u001b[0m             \u001b[0mhttp_err\u001b[0m \u001b[1;33m=\u001b[0m \u001b[1;36m0\u001b[0m\u001b[1;33m\u001b[0m\u001b[0m\n\u001b[0;32m    563\u001b[0m         \u001b[0margs\u001b[0m \u001b[1;33m=\u001b[0m \u001b[1;33m(\u001b[0m\u001b[0mdict\u001b[0m\u001b[1;33m,\u001b[0m \u001b[0mproto\u001b[0m\u001b[1;33m,\u001b[0m \u001b[0mmeth_name\u001b[0m\u001b[1;33m)\u001b[0m \u001b[1;33m+\u001b[0m \u001b[0margs\u001b[0m\u001b[1;33m\u001b[0m\u001b[0m\n\u001b[1;32m--> 564\u001b[1;33m         \u001b[0mresult\u001b[0m \u001b[1;33m=\u001b[0m \u001b[0mself\u001b[0m\u001b[1;33m.\u001b[0m\u001b[0m_call_chain\u001b[0m\u001b[1;33m(\u001b[0m\u001b[1;33m*\u001b[0m\u001b[0margs\u001b[0m\u001b[1;33m)\u001b[0m\u001b[1;33m\u001b[0m\u001b[0m\n\u001b[0m\u001b[0;32m    565\u001b[0m         \u001b[1;32mif\u001b[0m \u001b[0mresult\u001b[0m\u001b[1;33m:\u001b[0m\u001b[1;33m\u001b[0m\u001b[0m\n\u001b[0;32m    566\u001b[0m             \u001b[1;32mreturn\u001b[0m \u001b[0mresult\u001b[0m\u001b[1;33m\u001b[0m\u001b[0m\n",
      "\u001b[1;32mD:\\allsoftware\\Anaconda3\\lib\\urllib\\request.py\u001b[0m in \u001b[0;36m_call_chain\u001b[1;34m(self, chain, kind, meth_name, *args)\u001b[0m\n\u001b[0;32m    502\u001b[0m         \u001b[1;32mfor\u001b[0m \u001b[0mhandler\u001b[0m \u001b[1;32min\u001b[0m \u001b[0mhandlers\u001b[0m\u001b[1;33m:\u001b[0m\u001b[1;33m\u001b[0m\u001b[0m\n\u001b[0;32m    503\u001b[0m             \u001b[0mfunc\u001b[0m \u001b[1;33m=\u001b[0m \u001b[0mgetattr\u001b[0m\u001b[1;33m(\u001b[0m\u001b[0mhandler\u001b[0m\u001b[1;33m,\u001b[0m \u001b[0mmeth_name\u001b[0m\u001b[1;33m)\u001b[0m\u001b[1;33m\u001b[0m\u001b[0m\n\u001b[1;32m--> 504\u001b[1;33m             \u001b[0mresult\u001b[0m \u001b[1;33m=\u001b[0m \u001b[0mfunc\u001b[0m\u001b[1;33m(\u001b[0m\u001b[1;33m*\u001b[0m\u001b[0margs\u001b[0m\u001b[1;33m)\u001b[0m\u001b[1;33m\u001b[0m\u001b[0m\n\u001b[0m\u001b[0;32m    505\u001b[0m             \u001b[1;32mif\u001b[0m \u001b[0mresult\u001b[0m \u001b[1;32mis\u001b[0m \u001b[1;32mnot\u001b[0m \u001b[1;32mNone\u001b[0m\u001b[1;33m:\u001b[0m\u001b[1;33m\u001b[0m\u001b[0m\n\u001b[0;32m    506\u001b[0m                 \u001b[1;32mreturn\u001b[0m \u001b[0mresult\u001b[0m\u001b[1;33m\u001b[0m\u001b[0m\n",
      "\u001b[1;32mD:\\allsoftware\\Anaconda3\\lib\\urllib\\request.py\u001b[0m in \u001b[0;36mhttp_error_302\u001b[1;34m(self, req, fp, code, msg, headers)\u001b[0m\n\u001b[0;32m    754\u001b[0m         \u001b[0mfp\u001b[0m\u001b[1;33m.\u001b[0m\u001b[0mclose\u001b[0m\u001b[1;33m(\u001b[0m\u001b[1;33m)\u001b[0m\u001b[1;33m\u001b[0m\u001b[0m\n\u001b[0;32m    755\u001b[0m \u001b[1;33m\u001b[0m\u001b[0m\n\u001b[1;32m--> 756\u001b[1;33m         \u001b[1;32mreturn\u001b[0m \u001b[0mself\u001b[0m\u001b[1;33m.\u001b[0m\u001b[0mparent\u001b[0m\u001b[1;33m.\u001b[0m\u001b[0mopen\u001b[0m\u001b[1;33m(\u001b[0m\u001b[0mnew\u001b[0m\u001b[1;33m,\u001b[0m \u001b[0mtimeout\u001b[0m\u001b[1;33m=\u001b[0m\u001b[0mreq\u001b[0m\u001b[1;33m.\u001b[0m\u001b[0mtimeout\u001b[0m\u001b[1;33m)\u001b[0m\u001b[1;33m\u001b[0m\u001b[0m\n\u001b[0m\u001b[0;32m    757\u001b[0m \u001b[1;33m\u001b[0m\u001b[0m\n\u001b[0;32m    758\u001b[0m     \u001b[0mhttp_error_301\u001b[0m \u001b[1;33m=\u001b[0m \u001b[0mhttp_error_303\u001b[0m \u001b[1;33m=\u001b[0m \u001b[0mhttp_error_307\u001b[0m \u001b[1;33m=\u001b[0m \u001b[0mhttp_error_302\u001b[0m\u001b[1;33m\u001b[0m\u001b[0m\n",
      "\u001b[1;32mD:\\allsoftware\\Anaconda3\\lib\\urllib\\request.py\u001b[0m in \u001b[0;36mopen\u001b[1;34m(self, fullurl, data, timeout)\u001b[0m\n\u001b[0;32m    530\u001b[0m         \u001b[1;32mfor\u001b[0m \u001b[0mprocessor\u001b[0m \u001b[1;32min\u001b[0m \u001b[0mself\u001b[0m\u001b[1;33m.\u001b[0m\u001b[0mprocess_response\u001b[0m\u001b[1;33m.\u001b[0m\u001b[0mget\u001b[0m\u001b[1;33m(\u001b[0m\u001b[0mprotocol\u001b[0m\u001b[1;33m,\u001b[0m \u001b[1;33m[\u001b[0m\u001b[1;33m]\u001b[0m\u001b[1;33m)\u001b[0m\u001b[1;33m:\u001b[0m\u001b[1;33m\u001b[0m\u001b[0m\n\u001b[0;32m    531\u001b[0m             \u001b[0mmeth\u001b[0m \u001b[1;33m=\u001b[0m \u001b[0mgetattr\u001b[0m\u001b[1;33m(\u001b[0m\u001b[0mprocessor\u001b[0m\u001b[1;33m,\u001b[0m \u001b[0mmeth_name\u001b[0m\u001b[1;33m)\u001b[0m\u001b[1;33m\u001b[0m\u001b[0m\n\u001b[1;32m--> 532\u001b[1;33m             \u001b[0mresponse\u001b[0m \u001b[1;33m=\u001b[0m \u001b[0mmeth\u001b[0m\u001b[1;33m(\u001b[0m\u001b[0mreq\u001b[0m\u001b[1;33m,\u001b[0m \u001b[0mresponse\u001b[0m\u001b[1;33m)\u001b[0m\u001b[1;33m\u001b[0m\u001b[0m\n\u001b[0m\u001b[0;32m    533\u001b[0m \u001b[1;33m\u001b[0m\u001b[0m\n\u001b[0;32m    534\u001b[0m         \u001b[1;32mreturn\u001b[0m \u001b[0mresponse\u001b[0m\u001b[1;33m\u001b[0m\u001b[0m\n",
      "\u001b[1;32mD:\\allsoftware\\Anaconda3\\lib\\urllib\\request.py\u001b[0m in \u001b[0;36mhttp_response\u001b[1;34m(self, request, response)\u001b[0m\n\u001b[0;32m    640\u001b[0m         \u001b[1;32mif\u001b[0m \u001b[1;32mnot\u001b[0m \u001b[1;33m(\u001b[0m\u001b[1;36m200\u001b[0m \u001b[1;33m<=\u001b[0m \u001b[0mcode\u001b[0m \u001b[1;33m<\u001b[0m \u001b[1;36m300\u001b[0m\u001b[1;33m)\u001b[0m\u001b[1;33m:\u001b[0m\u001b[1;33m\u001b[0m\u001b[0m\n\u001b[0;32m    641\u001b[0m             response = self.parent.error(\n\u001b[1;32m--> 642\u001b[1;33m                 'http', request, response, code, msg, hdrs)\n\u001b[0m\u001b[0;32m    643\u001b[0m \u001b[1;33m\u001b[0m\u001b[0m\n\u001b[0;32m    644\u001b[0m         \u001b[1;32mreturn\u001b[0m \u001b[0mresponse\u001b[0m\u001b[1;33m\u001b[0m\u001b[0m\n",
      "\u001b[1;32mD:\\allsoftware\\Anaconda3\\lib\\urllib\\request.py\u001b[0m in \u001b[0;36merror\u001b[1;34m(self, proto, *args)\u001b[0m\n\u001b[0;32m    568\u001b[0m         \u001b[1;32mif\u001b[0m \u001b[0mhttp_err\u001b[0m\u001b[1;33m:\u001b[0m\u001b[1;33m\u001b[0m\u001b[0m\n\u001b[0;32m    569\u001b[0m             \u001b[0margs\u001b[0m \u001b[1;33m=\u001b[0m \u001b[1;33m(\u001b[0m\u001b[0mdict\u001b[0m\u001b[1;33m,\u001b[0m \u001b[1;34m'default'\u001b[0m\u001b[1;33m,\u001b[0m \u001b[1;34m'http_error_default'\u001b[0m\u001b[1;33m)\u001b[0m \u001b[1;33m+\u001b[0m \u001b[0morig_args\u001b[0m\u001b[1;33m\u001b[0m\u001b[0m\n\u001b[1;32m--> 570\u001b[1;33m             \u001b[1;32mreturn\u001b[0m \u001b[0mself\u001b[0m\u001b[1;33m.\u001b[0m\u001b[0m_call_chain\u001b[0m\u001b[1;33m(\u001b[0m\u001b[1;33m*\u001b[0m\u001b[0margs\u001b[0m\u001b[1;33m)\u001b[0m\u001b[1;33m\u001b[0m\u001b[0m\n\u001b[0m\u001b[0;32m    571\u001b[0m \u001b[1;33m\u001b[0m\u001b[0m\n\u001b[0;32m    572\u001b[0m \u001b[1;31m# XXX probably also want an abstract factory that knows when it makes\u001b[0m\u001b[1;33m\u001b[0m\u001b[1;33m\u001b[0m\u001b[0m\n",
      "\u001b[1;32mD:\\allsoftware\\Anaconda3\\lib\\urllib\\request.py\u001b[0m in \u001b[0;36m_call_chain\u001b[1;34m(self, chain, kind, meth_name, *args)\u001b[0m\n\u001b[0;32m    502\u001b[0m         \u001b[1;32mfor\u001b[0m \u001b[0mhandler\u001b[0m \u001b[1;32min\u001b[0m \u001b[0mhandlers\u001b[0m\u001b[1;33m:\u001b[0m\u001b[1;33m\u001b[0m\u001b[0m\n\u001b[0;32m    503\u001b[0m             \u001b[0mfunc\u001b[0m \u001b[1;33m=\u001b[0m \u001b[0mgetattr\u001b[0m\u001b[1;33m(\u001b[0m\u001b[0mhandler\u001b[0m\u001b[1;33m,\u001b[0m \u001b[0mmeth_name\u001b[0m\u001b[1;33m)\u001b[0m\u001b[1;33m\u001b[0m\u001b[0m\n\u001b[1;32m--> 504\u001b[1;33m             \u001b[0mresult\u001b[0m \u001b[1;33m=\u001b[0m \u001b[0mfunc\u001b[0m\u001b[1;33m(\u001b[0m\u001b[1;33m*\u001b[0m\u001b[0margs\u001b[0m\u001b[1;33m)\u001b[0m\u001b[1;33m\u001b[0m\u001b[0m\n\u001b[0m\u001b[0;32m    505\u001b[0m             \u001b[1;32mif\u001b[0m \u001b[0mresult\u001b[0m \u001b[1;32mis\u001b[0m \u001b[1;32mnot\u001b[0m \u001b[1;32mNone\u001b[0m\u001b[1;33m:\u001b[0m\u001b[1;33m\u001b[0m\u001b[0m\n\u001b[0;32m    506\u001b[0m                 \u001b[1;32mreturn\u001b[0m \u001b[0mresult\u001b[0m\u001b[1;33m\u001b[0m\u001b[0m\n",
      "\u001b[1;32mD:\\allsoftware\\Anaconda3\\lib\\urllib\\request.py\u001b[0m in \u001b[0;36mhttp_error_default\u001b[1;34m(self, req, fp, code, msg, hdrs)\u001b[0m\n\u001b[0;32m    648\u001b[0m \u001b[1;32mclass\u001b[0m \u001b[0mHTTPDefaultErrorHandler\u001b[0m\u001b[1;33m(\u001b[0m\u001b[0mBaseHandler\u001b[0m\u001b[1;33m)\u001b[0m\u001b[1;33m:\u001b[0m\u001b[1;33m\u001b[0m\u001b[0m\n\u001b[0;32m    649\u001b[0m     \u001b[1;32mdef\u001b[0m \u001b[0mhttp_error_default\u001b[0m\u001b[1;33m(\u001b[0m\u001b[0mself\u001b[0m\u001b[1;33m,\u001b[0m \u001b[0mreq\u001b[0m\u001b[1;33m,\u001b[0m \u001b[0mfp\u001b[0m\u001b[1;33m,\u001b[0m \u001b[0mcode\u001b[0m\u001b[1;33m,\u001b[0m \u001b[0mmsg\u001b[0m\u001b[1;33m,\u001b[0m \u001b[0mhdrs\u001b[0m\u001b[1;33m)\u001b[0m\u001b[1;33m:\u001b[0m\u001b[1;33m\u001b[0m\u001b[0m\n\u001b[1;32m--> 650\u001b[1;33m         \u001b[1;32mraise\u001b[0m \u001b[0mHTTPError\u001b[0m\u001b[1;33m(\u001b[0m\u001b[0mreq\u001b[0m\u001b[1;33m.\u001b[0m\u001b[0mfull_url\u001b[0m\u001b[1;33m,\u001b[0m \u001b[0mcode\u001b[0m\u001b[1;33m,\u001b[0m \u001b[0mmsg\u001b[0m\u001b[1;33m,\u001b[0m \u001b[0mhdrs\u001b[0m\u001b[1;33m,\u001b[0m \u001b[0mfp\u001b[0m\u001b[1;33m)\u001b[0m\u001b[1;33m\u001b[0m\u001b[0m\n\u001b[0m\u001b[0;32m    651\u001b[0m \u001b[1;33m\u001b[0m\u001b[0m\n\u001b[0;32m    652\u001b[0m \u001b[1;32mclass\u001b[0m \u001b[0mHTTPRedirectHandler\u001b[0m\u001b[1;33m(\u001b[0m\u001b[0mBaseHandler\u001b[0m\u001b[1;33m)\u001b[0m\u001b[1;33m:\u001b[0m\u001b[1;33m\u001b[0m\u001b[0m\n",
      "\u001b[1;31mHTTPError\u001b[0m: HTTP Error 403: Forbidden"
     ],
     "output_type": "error"
    }
   ],
   "source": [
    "from urllib.robotparser import RobotFileParser\n",
    "from urllib.request import urlopen\n",
    "rp = RobotFileParser()\n",
    "rp.parse(urlopen('http://www.jianshu.com/robots.txt').read().decode('utf-8').split('\\n'))"
   ]
  },
  {
   "cell_type": "code",
   "execution_count": null,
   "metadata": {},
   "outputs": [],
   "source": []
  }
 ],
 "metadata": {
  "kernelspec": {
   "display_name": "Python 2",
   "language": "python",
   "name": "python2"
  },
  "language_info": {
   "codemirror_mode": {
    "name": "ipython",
    "version": 2
   },
   "file_extension": ".py",
   "mimetype": "text/x-python",
   "name": "python",
   "nbconvert_exporter": "python",
   "pygments_lexer": "ipython2",
   "version": "2.7.6"
  }
 },
 "nbformat": 4,
 "nbformat_minor": 0
}
