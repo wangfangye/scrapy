{
 "cells": [
  {
   "cell_type": "code",
   "execution_count": 98,
   "metadata": {
    "collapsed": true
   },
   "outputs": [],
   "source": [
    "import requests\n",
    "import re\n",
    "import numpy as np"
   ]
  },
  {
   "cell_type": "code",
   "execution_count": 99,
   "metadata": {},
   "outputs": [],
   "source": [
    "def get_one_page(url):\n",
    "    headers = {\n",
    "        'User-Agent':'Mozilla/5.0 (Windows NT 10.0; WOW64) AppleWebKit/537.36 (KHTML, like Gecko) Chrome/67.0.3396.99 Safari/537.36'\n",
    "    }\n",
    "    response = requests.get(url,headers=headers)\n",
    "    if response.status_code == 200:\n",
    "        return response.text\n",
    "    return None\n"
   ]
  },
  {
   "cell_type": "code",
   "execution_count": 100,
   "metadata": {},
   "outputs": [],
   "source": [
    "def next_page(num,url,add):\n",
    "    URL = \"\"\n",
    "    if num == 0:\n",
    "        URL = URL + url \n",
    "    else:\n",
    "        URL = URL + url + add + str(int(num * 10))\n",
    "    return get_one_page(URL)"
   ]
  },
  {
   "cell_type": "code",
   "execution_count": 104,
   "metadata": {
    "collapsed": true
   },
   "outputs": [
    {
     "name": "stdout",
     "output_type": "stream",
     "text": [
      "100\n"
     ]
    }
   ],
   "source": [
    "import time\n",
    "url = 'http://maoyan.com/board/4'\n",
    "add = '?offset='\n",
    "pattern = re.compile('<dd>.*?board-index.*?>(.*?)</i>',re.S)\n",
    "result = []\n",
    "for num in np.arange(0,10):\n",
    "    time.sleep(2)\n",
    "    html = next_page(num,url,add)\n",
    "    results = re.findall(pattern,html)\n",
    "    result =result + results\n",
    "print(len(result))"
   ]
  },
  {
   "cell_type": "code",
   "execution_count": 105,
   "metadata": {},
   "outputs": [
    {
     "name": "stdout",
     "output_type": "stream",
     "text": [
      "['2', '3', '4', '5', '10', '下一页']\n"
     ]
    }
   ],
   "source": [
    "html = get_one_page(url)\n",
    "page_pattern = re.compile('<li.*?page.*?offset=.*?>(.*?)</a>',re.S)\n",
    "pages = re.findall(page_pattern,html)\n",
    "print(pages)\n"
   ]
  },
  {
   "cell_type": "code",
   "execution_count": 92,
   "metadata": {
    "collapsed": true
   },
   "outputs": [
    {
     "name": "stdout",
     "output_type": "stream",
     "text": [
      "['1', '2', '3', '4', '5', '6', '7', '8', '9', '10']\n"
     ]
    }
   ],
   "source": [
    "pattern = re.compile('<dd>.*?board-index.*?>(.*?)</i>',re.S)\n",
    "results = re.findall(pattern,html)\n",
    "print(results)"
   ]
  },
  {
   "cell_type": "code",
   "execution_count": 93,
   "metadata": {},
   "outputs": [
    {
     "name": "stdout",
     "output_type": "stream",
     "text": [
      "['11', '12', '13', '14', '15', '16', '17', '18', '19', '20']\n"
     ]
    }
   ],
   "source": [
    "url2 = 'http://maoyan.com/board/4?offset=10'\n",
    "html2 = get_one_page(url2)\n",
    "results2 = re.findall(pattern,html2)\n",
    "print(results2)"
   ]
  },
  {
   "cell_type": "code",
   "execution_count": 96,
   "metadata": {},
   "outputs": [
    {
     "name": "stdout",
     "output_type": "stream",
     "text": [
      "<zip object at 0x0000029F5C8A7108>\n"
     ]
    }
   ],
   "source": [
    ""
   ]
  },
  {
   "cell_type": "code",
   "execution_count": 39,
   "metadata": {},
   "outputs": [
    {
     "name": "stdout",
     "output_type": "stream",
     "text": [
      "1.0\n2.0\n3.0\n4.0\n5.0\n6.0\n7.0\n8.0\n9.0\n10.0\n"
     ]
    }
   ],
   "source": [
    "import numpy as np\n",
    "for i in np.linspace(1,10,10):\n",
    "    print(i)"
   ]
  },
  {
   "cell_type": "code",
   "execution_count": 29,
   "metadata": {},
   "outputs": [
    {
     "data": {
      "text/plain": [
       "range(1, 10)"
      ]
     },
     "execution_count": 29,
     "metadata": {},
     "output_type": "execute_result"
    }
   ],
   "source": [
    "a"
   ]
  },
  {
   "cell_type": "code",
   "execution_count": 102,
   "metadata": {
    "collapsed": true
   },
   "outputs": [
    {
     "data": {
      "text/plain": [
       "array([1, 2, 3, 4, 5, 6, 7, 8, 9])"
      ]
     },
     "execution_count": 102,
     "metadata": {},
     "output_type": "execute_result"
    }
   ],
   "source": [
    "url_base = 'http://maoyan.com/board/4'\n",
    "add = '?offset='\n",
    "num = np.arange(1,10,1)\n",
    "num"
   ]
  },
  {
   "cell_type": "code",
   "execution_count": 44,
   "metadata": {},
   "outputs": [
    {
     "name": "stdout",
     "output_type": "stream",
     "text": [
      "http://maoyan.com/board/4?offset=10\n"
     ]
    }
   ],
   "source": [
    "url = url_base +add\n",
    "print(url)"
   ]
  },
  {
   "cell_type": "code",
   "execution_count": 47,
   "metadata": {},
   "outputs": [],
   "source": [
    "num = np.arange(1,10,1)"
   ]
  },
  {
   "cell_type": "code",
   "execution_count": 46,
   "metadata": {},
   "outputs": [
    {
     "data": {
      "text/plain": [
       "array([1, 2, 3, 4, 5, 6, 7, 8, 9])"
      ]
     },
     "execution_count": 46,
     "metadata": {},
     "output_type": "execute_result"
    }
   ],
   "source": [
    "num"
   ]
  },
  {
   "cell_type": "code",
   "execution_count": 54,
   "metadata": {},
   "outputs": [
    {
     "name": "stdout",
     "output_type": "stream",
     "text": [
      "http://maoyan.com/board/4?offset=10\nhttp://maoyan.com/board/4?offset=20\nhttp://maoyan.com/board/4?offset=30\nhttp://maoyan.com/board/4?offset=40\nhttp://maoyan.com/board/4?offset=50\nhttp://maoyan.com/board/4?offset=60\nhttp://maoyan.com/board/4?offset=70\nhttp://maoyan.com/board/4?offset=80\nhttp://maoyan.com/board/4?offset=90\n"
     ]
    }
   ],
   "source": [
    "url_base = 'http://maoyan.com/board/4'\n",
    "add = '?offset='\n",
    "for num in np.arange(1,10,1.0):\n",
    "    url = url_base + add + str(int(num * 10))\n",
    "    print(url)"
   ]
  },
  {
   "cell_type": "code",
   "execution_count": 133,
   "metadata": {},
   "outputs": [
    {
     "name": "stdout",
     "output_type": "stream",
     "text": [
      "\n"
     ]
    }
   ],
   "source": [
    "a = \"           主        \"\n",
    "# a.strip()[1:] if len(a)>1 else ' '\n",
    "a = (a.strip()[3:] if len(a)>3 else '')\n",
    "print(a)"
   ]
  },
  {
   "cell_type": "code",
   "execution_count": 116,
   "metadata": {},
   "outputs": [
    {
     "name": "stdout",
     "output_type": "stream",
     "text": [
      "3210Runoob0123\n"
     ]
    }
   ],
   "source": [
    "str = \"00000003210Runoob01230000000\" \n",
    "print (str.strip('0'))"
   ]
  },
  {
   "cell_type": "code",
   "execution_count": 141,
   "metadata": {},
   "outputs": [],
   "source": [
    "def fab(max): \n",
    "    n, a, b = 0, 0, 1 \n",
    "    while n < max: \n",
    "        yield (a,b,n) \n",
    "        a, b = b, a + b \n",
    "        n = n + 1"
   ]
  },
  {
   "cell_type": "code",
   "execution_count": 143,
   "metadata": {},
   "outputs": [
    {
     "name": "stdout",
     "output_type": "stream",
     "text": [
      "(0, 1, 0)\n(1, 1, 1)\n(1, 2, 2)\n(2, 3, 3)\n(3, 5, 4)\n"
     ]
    }
   ],
   "source": [
    "for i in fab(5):\n",
    "    print(i)"
   ]
  },
  {
   "cell_type": "code",
   "execution_count": 145,
   "metadata": {},
   "outputs": [
    {
     "name": "stdout",
     "output_type": "stream",
     "text": [
      "8.2\n"
     ]
    },
    {
     "data": {
      "text/plain": [
       "8.2"
      ]
     },
     "execution_count": 145,
     "metadata": {},
     "output_type": "execute_result"
    }
   ],
   "source": [
    "a = \"8.\"\n",
    "b=\"2\"\n",
    "c = a+b\n",
    "print(c)\n",
    "float(c)"
   ]
  },
  {
   "cell_type": "code",
   "execution_count": null,
   "metadata": {},
   "outputs": [],
   "source": []
  }
 ],
 "metadata": {
  "kernelspec": {
   "display_name": "Python 2",
   "language": "python",
   "name": "python2"
  },
  "language_info": {
   "codemirror_mode": {
    "name": "ipython",
    "version": 2
   },
   "file_extension": ".py",
   "mimetype": "text/x-python",
   "name": "python",
   "nbconvert_exporter": "python",
   "pygments_lexer": "ipython2",
   "version": "2.7.6"
  }
 },
 "nbformat": 4,
 "nbformat_minor": 0
}
